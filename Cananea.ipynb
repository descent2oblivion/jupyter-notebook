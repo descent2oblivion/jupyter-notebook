{
 "cells": [
  {
   "cell_type": "markdown",
   "metadata": {},
   "source": [
    "# Cananea, Sonora: Evolucion de casos de Coronavirus - 19\n",
    "#### Datos recaudados de las publicaciones de Salud Sonora"
   ]
  },
  {
   "cell_type": "markdown",
   "metadata": {},
   "source": [
    "<img src=\"emmanuel.jpg\" width=\"240\" height=\"240\" align=\"right\"/>\n",
    "<h2>Analisis realizado por: Ing. Emmanuel Chavez Gallegos</h2>"
   ]
  },
  {
   "cell_type": "markdown",
   "metadata": {},
   "source": [
    "<br/>\n",
    "<br/>\n",
    "<br/>\n",
    "<br/>\n",
    "<br/>\n",
    "<br/>\n",
    "<br/>\n",
    "<br/>\n",
    "<br/>\n",
    "<br/>\n",
    "<br/>\n",
    "<br/>\n",
    "<br/>\n",
    "<br/>\n",
    "<br/>\n",
    "<br/>\n",
    "<br/>\n",
    "<br/>\n",
    "<br/>\n",
    "<br/>\n",
    "<br/>\n",
    "<br/>\n",
    "<br/>\n",
    "<br/>\n",
    "<br/>\n",
    "<br/>\n",
    "<br/>"
   ]
  },
  {
   "cell_type": "code",
   "execution_count": 1,
   "metadata": {},
   "outputs": [
    {
     "data": {
      "text/html": [
       "   <div id=\"w33ypL\"></div>\n",
       "   <script type=\"text/javascript\" data-lets-plot-script=\"library\">\n",
       "       if(!window.letsPlotCallQueue) {\n",
       "           window.letsPlotCallQueue = [];\n",
       "       }; \n",
       "       window.letsPlotCall = function(f) {\n",
       "           window.letsPlotCallQueue.push(f);\n",
       "       };\n",
       "       (function() {\n",
       "           var script = document.createElement(\"script\");\n",
       "           script.type = \"text/javascript\";\n",
       "           script.src = \"https://dl.bintray.com/jetbrains/lets-plot/lets-plot-1.4.2.min.js\";\n",
       "           script.onload = function() {\n",
       "               window.letsPlotCall = function(f) {f();};\n",
       "               window.letsPlotCallQueue.forEach(function(f) {f();});\n",
       "               window.letsPlotCallQueue = [];\n",
       "               \n",
       "               \n",
       "           };\n",
       "           script.onerror = function(event) {\n",
       "               window.letsPlotCall = function(f) {};\n",
       "               window.letsPlotCallQueue = [];\n",
       "               var div = document.createElement(\"div\");\n",
       "               div.style.color = 'darkred';\n",
       "               div.textContent = 'Error loading Lets-Plot JS';\n",
       "               document.getElementById(\"w33ypL\").appendChild(div);\n",
       "           };\n",
       "           var e = document.getElementById(\"w33ypL\");\n",
       "           e.appendChild(script);\n",
       "       })();\n",
       "   </script>"
      ]
     },
     "metadata": {},
     "output_type": "display_data"
    }
   ],
   "source": [
    "%use lets-plot"
   ]
  },
  {
   "cell_type": "markdown",
   "metadata": {},
   "source": [
    "# Registro"
   ]
  },
  {
   "cell_type": "code",
   "execution_count": 2,
   "metadata": {},
   "outputs": [],
   "source": [
    "var datos = mutableMapOf<String, Any>()\n",
    "\n",
    "datos.put(\"Mayo 1\", 0)\n",
    "datos.put(\"Mayo 12\", 10)\n",
    "datos.put(\"Mayo 13\", 12)\n",
    "datos.put(\"Mayo 15\", 15)\n",
    "datos.put(\"Mayo 17\", 17)\n",
    "//datos.put(\"Mayo 22\", 17) //Sin incremento de casos\n",
    "datos.put(\"Mayo 24\", 19)\n",
    "//datos.put(\"Mayo 25\", 19) //Sin incremento de casos\n",
    "datos.put(\"Mayo 27\", 21)\n",
    "datos.put(\"Mayo 30\", 25)\n",
    "datos.put(\"Junio 2\", 27)\n",
    "datos.put(\"Junio 4\", 29)\n",
    "datos.put(\"Junio 5\", 30)\n",
    "datos.put(\"Junio 7\", 35)\n",
    "//datos.put(\"Junio 8\", 35) //Sin incremento de casos\n",
    "datos.put(\"Junio 10\", 39)\n",
    "datos.put(\"Junio 12\", 41)\n",
    "//datos.put(\"Junio 13\", 41) //Sin incremento de casos\n",
    "datos.put(\"Junio 14\", 51)\n",
    "datos.put(\"Junio 17\", 52)\n",
    "datos.put(\"Junio 18\", 57)\n",
    "datos.put(\"Junio 19\", 62)\n",
    "datos.put(\"Junio 20\", 68)\n",
    "\n"
   ]
  },
  {
   "cell_type": "code",
   "execution_count": 3,
   "metadata": {},
   "outputs": [
    {
     "data": {
      "text/html": [
       "   <div id=\"XeUzoa\"></div>\n",
       "   <script type=\"text/javascript\" data-lets-plot-script=\"plot\">\n",
       "       (function() {\n",
       "           var plotSpec={\n",
       "'ggtitle':{\n",
       "'text':\"Cananea: Evolucion de casos\"\n",
       "},\n",
       "'mapping':{\n",
       "},\n",
       "'data':{\n",
       "'Fecha':[\"Mayo 1\",\"Mayo 12\",\"Mayo 13\",\"Mayo 15\",\"Mayo 17\",\"Mayo 24\",\"Mayo 27\",\"Mayo 30\",\"Junio 2\",\"Junio 4\",\"Junio 5\",\"Junio 7\",\"Junio 10\",\"Junio 12\",\"Junio 14\",\"Junio 17\",\"Junio 18\",\"Junio 19\",\"Junio 20\"],\n",
       "'Casos':[0.0,10.0,12.0,15.0,17.0,19.0,21.0,25.0,27.0,29.0,30.0,35.0,39.0,41.0,51.0,52.0,57.0,62.0,68.0]\n",
       "},\n",
       "'kind':\"plot\",\n",
       "'scales':[],\n",
       "'layers':[{\n",
       "'stat':\"identity\",\n",
       "'mapping':{\n",
       "'x':\"Fecha\",\n",
       "'y':\"Casos\"\n",
       "},\n",
       "'data':{\n",
       "},\n",
       "'alpha':0.5,\n",
       "'position':\"stack\",\n",
       "'geom':\"area\",\n",
       "'fill':\"#00ff00\"\n",
       "}]\n",
       "};\n",
       "           var plotContainer = document.getElementById(\"XeUzoa\");\n",
       "           window.letsPlotCall(function() {{\n",
       "               LetsPlot.buildPlotFromProcessedSpecs(plotSpec, -1, -1, plotContainer);\n",
       "           }});\n",
       "       })();    \n",
       "   </script>"
      ]
     },
     "execution_count": 3,
     "metadata": {},
     "output_type": "execute_result"
    }
   ],
   "source": [
    "var hist = mapOf<String, Any>(\n",
    "    \"Fecha\" to datos.keys,\n",
    "    \"Casos\" to datos.values\n",
    ")\n",
    "\n",
    "var z = lets_plot(hist)\n",
    "\n",
    "var layer = geom_area(stat = Stat.identity, fill = \"#00ff00\", alpha = 0.5){\n",
    "    x = \"Fecha\"\n",
    "    y = \"Casos\"\n",
    "}\n",
    "\n",
    "var titulo = ggtitle(\"Cananea: Evolucion de casos\")\n",
    "\n",
    "(z + layer + titulo)"
   ]
  }
 ],
 "metadata": {
  "kernelspec": {
   "display_name": "Kotlin",
   "language": "kotlin",
   "name": "kotlin"
  },
  "language_info": {
   "codemirror_mode": "text/x-kotlin",
   "file_extension": ".kt",
   "mimetype": "text/x-kotlin",
   "name": "kotlin",
   "pygments_lexer": "kotlin",
   "version": "1.4.0-dev-7568"
  }
 },
 "nbformat": 4,
 "nbformat_minor": 4
}
