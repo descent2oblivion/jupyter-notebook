{
 "cells": [
  {
   "cell_type": "markdown",
   "metadata": {},
   "source": [
    "# Analisis de la pandemia COVID - 19\n",
    "#### La presente es una continuacion al Analisis Junio-16-2020 .\n",
    "#### Los datos aqui presentados fueron tomados de https://www.worldometers.info/coronavirus/ al medio dia del 21 de Junio del 2020"
   ]
  },
  {
   "cell_type": "markdown",
   "metadata": {},
   "source": [
    "<img src=\"emmanuel.jpg\" height=\"240\" width=\"240\" align=\"right\"/>\n",
    "<h2>Analisis realizado por: Ing. Emmanuel Chavez Gallegos</h2>"
   ]
  },
  {
   "cell_type": "markdown",
   "metadata": {},
   "source": [
    "<br/>\n",
    "<br/>\n",
    "<br/>\n",
    "<br/>\n",
    "<br/>\n",
    "<br/>\n",
    "<br/>\n",
    "<br/>\n",
    "<br/>\n",
    "<br/>\n",
    "<br/>\n",
    "<br/>\n",
    "<br/>\n",
    "<br/>\n",
    "<br/>\n",
    "<br/>\n",
    "<br/>\n",
    "<br/>\n",
    "<br/>\n",
    "<br/>\n",
    "<br/>"
   ]
  },
  {
   "cell_type": "markdown",
   "metadata": {},
   "source": [
    "## Clase coronavirus\n",
    "#### Se le provee de cuatro parametros (lugar, total, muertes, recuperados) y calculara el resumen de los casos de dicho lugar, a esto se le llama \"Objeto de coronavirus\""
   ]
  },
  {
   "cell_type": "code",
   "execution_count": 1,
   "metadata": {},
   "outputs": [
    {
     "data": {
      "text/html": [
       "   <div id=\"Nomnpa\"></div>\n",
       "   <script type=\"text/javascript\" data-lets-plot-script=\"library\">\n",
       "       if(!window.letsPlotCallQueue) {\n",
       "           window.letsPlotCallQueue = [];\n",
       "       }; \n",
       "       window.letsPlotCall = function(f) {\n",
       "           window.letsPlotCallQueue.push(f);\n",
       "       };\n",
       "       (function() {\n",
       "           var script = document.createElement(\"script\");\n",
       "           script.type = \"text/javascript\";\n",
       "           script.src = \"https://dl.bintray.com/jetbrains/lets-plot/lets-plot-1.4.2.min.js\";\n",
       "           script.onload = function() {\n",
       "               window.letsPlotCall = function(f) {f();};\n",
       "               window.letsPlotCallQueue.forEach(function(f) {f();});\n",
       "               window.letsPlotCallQueue = [];\n",
       "               \n",
       "               \n",
       "           };\n",
       "           script.onerror = function(event) {\n",
       "               window.letsPlotCall = function(f) {};\n",
       "               window.letsPlotCallQueue = [];\n",
       "               var div = document.createElement(\"div\");\n",
       "               div.style.color = 'darkred';\n",
       "               div.textContent = 'Error loading Lets-Plot JS';\n",
       "               document.getElementById(\"Nomnpa\").appendChild(div);\n",
       "           };\n",
       "           var e = document.getElementById(\"Nomnpa\");\n",
       "           e.appendChild(script);\n",
       "       })();\n",
       "   </script>"
      ]
     },
     "metadata": {},
     "output_type": "display_data"
    }
   ],
   "source": [
    "%use lets-plot"
   ]
  },
  {
   "cell_type": "code",
   "execution_count": 2,
   "metadata": {},
   "outputs": [],
   "source": [
    "class coronavirus(_lugar : String, _total : Int, _muertes : Int, _recuperados : Int){\n",
    "    \n",
    "    var lugar = \"\"\n",
    "    var casos = 0\n",
    "    var muertes = 0\n",
    "    var recuperados = 0\n",
    "    var cerrados = 0\n",
    "    var activos = 0\n",
    "    var resumen = \"\"\n",
    "    var lista = listOf(0) \n",
    "    \n",
    "    init{\n",
    "        lugar = _lugar\n",
    "        \n",
    "        casos = _total\n",
    "\n",
    "        muertes = _muertes\n",
    "\n",
    "        recuperados = _recuperados\n",
    "\n",
    "        cerrados = muertes + recuperados\n",
    "\n",
    "        activos = casos - cerrados \n",
    "        \n",
    "        lista = listOf(casos, cerrados, activos, recuperados, muertes)\n",
    "        \n",
    "        resumen = \"${lugar}:\\n\" + \n",
    "        \"Total de casos: ${casos}\\n\" + \n",
    "        \"De los cuales ${cerrados} han sido cerrados  y quedan ${activos} activos.\\n\" + \n",
    "        \"De los casos cerrados ${recuperados} se han recuperado y ${muertes} han muerto\"\n",
    "    }\n",
    "}"
   ]
  },
  {
   "cell_type": "markdown",
   "metadata": {},
   "source": [
    "<br/>\n",
    "<br/>\n",
    "<br/>\n",
    "<br/>\n",
    "<br/>\n",
    "<br/>\n",
    "<br/>\n",
    "<br/>\n",
    "<br/>"
   ]
  },
  {
   "cell_type": "markdown",
   "metadata": {},
   "source": [
    "## Clase grafica\n",
    "#### Se le provee de dos parametros (\"Objeto de coronavirus\", fecha) y como resultado calculara la grafica de dicho objeto"
   ]
  },
  {
   "cell_type": "code",
   "execution_count": 3,
   "metadata": {},
   "outputs": [],
   "source": [
    "class grafica(objeto_covid : coronavirus, _titulo : String){\n",
    "    \n",
    "    \n",
    "    val datos = mapOf<String,Any>(\n",
    "        \"Conceptos\" to listOf(\"Total\", \"Cerrados\", \"Activos\", \"Recuperados\", \"Muertes\"),\n",
    "        \"Casos\" to objeto_covid.lista\n",
    "    )\n",
    "\n",
    "    var z = lets_plot(datos)\n",
    "\n",
    "    val layer = geom_bar(stat = Stat.identity){\n",
    "        x = \"Conceptos\"\n",
    "        y = \"Casos\"\n",
    "        fill = \"Conceptos\"\n",
    "    }\n",
    "\n",
    "    val title = ggtitle(\"${objeto_covid.lugar} - ${_titulo}\")\n",
    "\n",
    "    val graph = (z + layer + title)\n",
    "    \n",
    "}"
   ]
  },
  {
   "cell_type": "markdown",
   "metadata": {},
   "source": [
    "<br/>\n",
    "<br/>\n",
    "<br/>\n",
    "<br/>\n",
    "<br/>\n",
    "<br/>\n",
    "<br/>\n",
    "<br/>\n",
    "<br/>\n",
    "<br/>\n",
    "<br/>\n",
    "<br/>\n",
    "<br/>\n",
    "<br/>\n",
    "<br/>\n",
    "<br/>\n",
    "<br/>\n",
    "<br/>\n",
    "<br/>\n",
    "<br/>\n",
    "<br/>\n",
    "<br/>\n",
    "<br/>"
   ]
  },
  {
   "cell_type": "markdown",
   "metadata": {},
   "source": [
    "# Analisis de: Mundo"
   ]
  },
  {
   "cell_type": "code",
   "execution_count": 4,
   "metadata": {},
   "outputs": [
    {
     "name": "stdout",
     "output_type": "stream",
     "text": [
      "Mundo:\n",
      "Total de casos: 9002885\n",
      "De los cuales 5254543 han sido cerrados  y quedan 3748342 activos.\n",
      "De los casos cerrados 4785949 se han recuperado y 468594 han muerto"
     ]
    },
    {
     "data": {
      "text/html": [
       "   <div id=\"3hL818\"></div>\n",
       "   <script type=\"text/javascript\" data-lets-plot-script=\"plot\">\n",
       "       (function() {\n",
       "           var plotSpec={\n",
       "'ggtitle':{\n",
       "'text':\"Mundo - Junio 21\"\n",
       "},\n",
       "'mapping':{\n",
       "},\n",
       "'data':{\n",
       "'Conceptos':[\"Total\",\"Cerrados\",\"Activos\",\"Recuperados\",\"Muertes\"],\n",
       "'Casos':[9002885.0,5254543.0,3748342.0,4785949.0,468594.0]\n",
       "},\n",
       "'kind':\"plot\",\n",
       "'scales':[],\n",
       "'layers':[{\n",
       "'stat':\"identity\",\n",
       "'mapping':{\n",
       "'x':\"Conceptos\",\n",
       "'y':\"Casos\",\n",
       "'fill':\"Conceptos\"\n",
       "},\n",
       "'data':{\n",
       "},\n",
       "'position':\"stack\",\n",
       "'geom':\"bar\"\n",
       "}]\n",
       "};\n",
       "           var plotContainer = document.getElementById(\"3hL818\");\n",
       "           window.letsPlotCall(function() {{\n",
       "               LetsPlot.buildPlotFromProcessedSpecs(plotSpec, -1, -1, plotContainer);\n",
       "           }});\n",
       "       })();    \n",
       "   </script>"
      ]
     },
     "execution_count": 4,
     "metadata": {},
     "output_type": "execute_result"
    }
   ],
   "source": [
    "var mundo : coronavirus = coronavirus(\"Mundo\", 9002885, 468594, 4785949)\n",
    "var graf_mundo : grafica = grafica(mundo, \"Junio 21\")\n",
    "\n",
    "print(mundo.resumen)\n",
    "graf_mundo.graph"
   ]
  },
  {
   "cell_type": "markdown",
   "metadata": {},
   "source": [
    "## Interpretacion\n",
    "#### Periodo Junio 16 - Junio 21: Se han sumado 775722 casos positivos en todo el mundo, en otras palabras, un promedio de 129287 nuevos casos por dia. Se han cerrado 530983 casos de los cuales 506823 se han recuperado y 24160 han muerto."
   ]
  },
  {
   "cell_type": "markdown",
   "metadata": {},
   "source": [
    "<br/>\n",
    "<br/>\n",
    "<br/>\n",
    "<br/>\n",
    "<br/>\n",
    "<br/>\n",
    "<br/>\n",
    "<br/>\n",
    "<br/>\n",
    "<br/>\n",
    "<br/>"
   ]
  },
  {
   "cell_type": "markdown",
   "metadata": {},
   "source": [
    "# Analisis de: Mexico"
   ]
  },
  {
   "cell_type": "code",
   "execution_count": 5,
   "metadata": {},
   "outputs": [
    {
     "name": "stdout",
     "output_type": "stream",
     "text": [
      "Mexico:\n",
      "Total de casos: 175202\n",
      "De los cuales 152467 han sido cerrados  y quedan 22735 activos.\n",
      "De los casos cerrados 131686 se han recuperado y 20781 han muerto"
     ]
    },
    {
     "data": {
      "text/html": [
       "   <div id=\"U4VKKu\"></div>\n",
       "   <script type=\"text/javascript\" data-lets-plot-script=\"plot\">\n",
       "       (function() {\n",
       "           var plotSpec={\n",
       "'ggtitle':{\n",
       "'text':\"Mexico - Junio 21\"\n",
       "},\n",
       "'mapping':{\n",
       "},\n",
       "'data':{\n",
       "'Conceptos':[\"Total\",\"Cerrados\",\"Activos\",\"Recuperados\",\"Muertes\"],\n",
       "'Casos':[175202.0,152467.0,22735.0,131686.0,20781.0]\n",
       "},\n",
       "'kind':\"plot\",\n",
       "'scales':[],\n",
       "'layers':[{\n",
       "'stat':\"identity\",\n",
       "'mapping':{\n",
       "'x':\"Conceptos\",\n",
       "'y':\"Casos\",\n",
       "'fill':\"Conceptos\"\n",
       "},\n",
       "'data':{\n",
       "},\n",
       "'position':\"stack\",\n",
       "'geom':\"bar\"\n",
       "}]\n",
       "};\n",
       "           var plotContainer = document.getElementById(\"U4VKKu\");\n",
       "           window.letsPlotCall(function() {{\n",
       "               LetsPlot.buildPlotFromProcessedSpecs(plotSpec, -1, -1, plotContainer);\n",
       "           }});\n",
       "       })();    \n",
       "   </script>"
      ]
     },
     "execution_count": 5,
     "metadata": {},
     "output_type": "execute_result"
    }
   ],
   "source": [
    "var mexico : coronavirus = coronavirus(\"Mexico\", 175202, 20781, 131686)\n",
    "var graf_mex : grafica = grafica(mexico, \"Junio 21\")\n",
    "\n",
    "print(mexico.resumen)\n",
    "graf_mex.graph"
   ]
  },
  {
   "cell_type": "markdown",
   "metadata": {},
   "source": [
    "## Interpretacion\n",
    "#### Periodo Junio 16 - Junio 21: Se han sumado 24938 casos positivos, en otras palabras, un promedio de 4156 nuevos casos por dia. Se han cerrado 21881 casos de los cuales 18680 se han recuperado y 3201 han muerto."
   ]
  },
  {
   "cell_type": "markdown",
   "metadata": {},
   "source": [
    "<br/>\n",
    "<br/>\n",
    "<br/>\n",
    "<br/>\n",
    "<br/>\n",
    "<br/>\n",
    "<br/>\n",
    "<br/>\n",
    "<br/>\n",
    "<br/>\n",
    "<br/>"
   ]
  },
  {
   "cell_type": "markdown",
   "metadata": {},
   "source": [
    "# Analisis de: USA"
   ]
  },
  {
   "cell_type": "code",
   "execution_count": 6,
   "metadata": {},
   "outputs": [
    {
     "name": "stdout",
     "output_type": "stream",
     "text": [
      "USA:\n",
      "Total de casos: 2346982\n",
      "De los cuales 1097189 han sido cerrados  y quedan 1249793 activos.\n",
      "De los casos cerrados 975049 se han recuperado y 122140 han muerto"
     ]
    },
    {
     "data": {
      "text/html": [
       "   <div id=\"GX2SDC\"></div>\n",
       "   <script type=\"text/javascript\" data-lets-plot-script=\"plot\">\n",
       "       (function() {\n",
       "           var plotSpec={\n",
       "'ggtitle':{\n",
       "'text':\"USA - Junio 21\"\n",
       "},\n",
       "'mapping':{\n",
       "},\n",
       "'data':{\n",
       "'Conceptos':[\"Total\",\"Cerrados\",\"Activos\",\"Recuperados\",\"Muertes\"],\n",
       "'Casos':[2346982.0,1097189.0,1249793.0,975049.0,122140.0]\n",
       "},\n",
       "'kind':\"plot\",\n",
       "'scales':[],\n",
       "'layers':[{\n",
       "'stat':\"identity\",\n",
       "'mapping':{\n",
       "'x':\"Conceptos\",\n",
       "'y':\"Casos\",\n",
       "'fill':\"Conceptos\"\n",
       "},\n",
       "'data':{\n",
       "},\n",
       "'position':\"stack\",\n",
       "'geom':\"bar\"\n",
       "}]\n",
       "};\n",
       "           var plotContainer = document.getElementById(\"GX2SDC\");\n",
       "           window.letsPlotCall(function() {{\n",
       "               LetsPlot.buildPlotFromProcessedSpecs(plotSpec, -1, -1, plotContainer);\n",
       "           }});\n",
       "       })();    \n",
       "   </script>"
      ]
     },
     "execution_count": 6,
     "metadata": {},
     "output_type": "execute_result"
    }
   ],
   "source": [
    "var usa : coronavirus = coronavirus(\"USA\", 2346982, 122140, 975049)\n",
    "var graf_usa : grafica = grafica(usa, \"Junio 21\")\n",
    "\n",
    "print(usa.resumen)\n",
    "graf_usa.graph"
   ]
  },
  {
   "cell_type": "markdown",
   "metadata": {},
   "source": [
    "## Interpretacion\n",
    "##### Periodo Junio 16 - Junio 21: Se han sumado 144453 casos positivos, en otras palabras, un promedio de 24075 nuevos casos por dia. Se han cerrado 81744 casos de los cuales 78601 se han recuperado y 3143 han muerto."
   ]
  },
  {
   "cell_type": "markdown",
   "metadata": {},
   "source": [
    "<br/>\n",
    "<br/>\n",
    "<br/>\n",
    "<br/>\n",
    "<br/>\n",
    "<br/>\n",
    "<br/>\n",
    "<br/>\n",
    "<br/>\n",
    "<br/>\n",
    "<br/>"
   ]
  },
  {
   "cell_type": "markdown",
   "metadata": {},
   "source": [
    "# Analisis de: Alemania"
   ]
  },
  {
   "cell_type": "code",
   "execution_count": 7,
   "metadata": {},
   "outputs": [
    {
     "name": "stdout",
     "output_type": "stream",
     "text": [
      "Alemania:\n",
      "Total de casos: 191346\n",
      "De los cuales 183862 han sido cerrados  y quedan 7484 activos.\n",
      "De los casos cerrados 174900 se han recuperado y 8962 han muerto"
     ]
    },
    {
     "data": {
      "text/html": [
       "   <div id=\"xRj6HZ\"></div>\n",
       "   <script type=\"text/javascript\" data-lets-plot-script=\"plot\">\n",
       "       (function() {\n",
       "           var plotSpec={\n",
       "'ggtitle':{\n",
       "'text':\"Alemania - Junio 21\"\n",
       "},\n",
       "'mapping':{\n",
       "},\n",
       "'data':{\n",
       "'Conceptos':[\"Total\",\"Cerrados\",\"Activos\",\"Recuperados\",\"Muertes\"],\n",
       "'Casos':[191346.0,183862.0,7484.0,174900.0,8962.0]\n",
       "},\n",
       "'kind':\"plot\",\n",
       "'scales':[],\n",
       "'layers':[{\n",
       "'stat':\"identity\",\n",
       "'mapping':{\n",
       "'x':\"Conceptos\",\n",
       "'y':\"Casos\",\n",
       "'fill':\"Conceptos\"\n",
       "},\n",
       "'data':{\n",
       "},\n",
       "'position':\"stack\",\n",
       "'geom':\"bar\"\n",
       "}]\n",
       "};\n",
       "           var plotContainer = document.getElementById(\"xRj6HZ\");\n",
       "           window.letsPlotCall(function() {{\n",
       "               LetsPlot.buildPlotFromProcessedSpecs(plotSpec, -1, -1, plotContainer);\n",
       "           }});\n",
       "       })();    \n",
       "   </script>"
      ]
     },
     "execution_count": 7,
     "metadata": {},
     "output_type": "execute_result"
    }
   ],
   "source": [
    "var alemania : coronavirus = coronavirus(\"Alemania\", 191346, 8962, 174900)\n",
    "var graf_ale : grafica = grafica(alemania, \"Junio 21\")\n",
    "\n",
    "print(alemania.resumen)\n",
    "graf_ale.graph"
   ]
  },
  {
   "cell_type": "markdown",
   "metadata": {},
   "source": [
    "## Interpretacion\n",
    "#### Periodo Junio 16 - Junio 21: Se han sumado 2964 casos positivos, en otras palabras, un promedio de 494 nuevos casos por dia. Se han cerrado 1852 casos de los cuales 1800 se han recuperado y 52 han muerto."
   ]
  },
  {
   "cell_type": "markdown",
   "metadata": {},
   "source": [
    "<br/>\n",
    "<br/>\n",
    "<br/>\n",
    "<br/>\n",
    "<br/>\n",
    "<br/>\n",
    "<br/>\n",
    "<br/>\n",
    "<br/>\n",
    "<br/>\n",
    "<br/>"
   ]
  },
  {
   "cell_type": "markdown",
   "metadata": {},
   "source": [
    "# Analisis de: Rusia"
   ]
  },
  {
   "cell_type": "code",
   "execution_count": 8,
   "metadata": {},
   "outputs": [
    {
     "name": "stdout",
     "output_type": "stream",
     "text": [
      "Rusia:\n",
      "Total de casos: 584680\n",
      "De los cuales 347822 han sido cerrados  y quedan 236858 activos.\n",
      "De los casos cerrados 339711 se han recuperado y 8111 han muerto"
     ]
    },
    {
     "data": {
      "text/html": [
       "   <div id=\"DcDdSO\"></div>\n",
       "   <script type=\"text/javascript\" data-lets-plot-script=\"plot\">\n",
       "       (function() {\n",
       "           var plotSpec={\n",
       "'ggtitle':{\n",
       "'text':\"Rusia - Junio 21\"\n",
       "},\n",
       "'mapping':{\n",
       "},\n",
       "'data':{\n",
       "'Conceptos':[\"Total\",\"Cerrados\",\"Activos\",\"Recuperados\",\"Muertes\"],\n",
       "'Casos':[584680.0,347822.0,236858.0,339711.0,8111.0]\n",
       "},\n",
       "'kind':\"plot\",\n",
       "'scales':[],\n",
       "'layers':[{\n",
       "'stat':\"identity\",\n",
       "'mapping':{\n",
       "'x':\"Conceptos\",\n",
       "'y':\"Casos\",\n",
       "'fill':\"Conceptos\"\n",
       "},\n",
       "'data':{\n",
       "},\n",
       "'position':\"stack\",\n",
       "'geom':\"bar\"\n",
       "}]\n",
       "};\n",
       "           var plotContainer = document.getElementById(\"DcDdSO\");\n",
       "           window.letsPlotCall(function() {{\n",
       "               LetsPlot.buildPlotFromProcessedSpecs(plotSpec, -1, -1, plotContainer);\n",
       "           }});\n",
       "       })();    \n",
       "   </script>"
      ]
     },
     "execution_count": 8,
     "metadata": {},
     "output_type": "execute_result"
    }
   ],
   "source": [
    "var rusia : coronavirus = coronavirus(\"Rusia\", 584680, 8111, 339711)\n",
    "var graf_rusia : grafica = grafica(rusia, \"Junio 21\")\n",
    "\n",
    "print(rusia.resumen)\n",
    "graf_rusia.graph"
   ]
  },
  {
   "cell_type": "markdown",
   "metadata": {},
   "source": [
    "## Interpretacion\n",
    "#### Periodo Junio 16 - Junio 21: Se han sumado 39222 casos positivos, en otras palabras, un promedio de 6537 nuevos casos por dia. Se han cerrado 46232 casos de los cuales 45405 se han recuperado y 827 han muerto."
   ]
  }
 ],
 "metadata": {
  "kernelspec": {
   "display_name": "Kotlin",
   "language": "kotlin",
   "name": "kotlin"
  },
  "language_info": {
   "codemirror_mode": "text/x-kotlin",
   "file_extension": ".kt",
   "mimetype": "text/x-kotlin",
   "name": "kotlin",
   "pygments_lexer": "kotlin",
   "version": "1.4.0-dev-7568"
  }
 },
 "nbformat": 4,
 "nbformat_minor": 2
}
