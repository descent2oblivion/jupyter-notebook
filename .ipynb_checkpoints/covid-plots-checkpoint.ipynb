{
 "cells": [
  {
   "cell_type": "code",
   "execution_count": 2,
   "metadata": {},
   "outputs": [
    {
     "data": {
      "text/html": [
<<<<<<< HEAD:.ipynb_checkpoints/Untitled-checkpoint.ipynb
       "   <div id=\"bZLYui\"></div>\n",
=======
       "   <div id=\"qf5sXe\"></div>\n",
>>>>>>> 30757cf9ff11ae4d3d2e80185bc354b2728596cd:.ipynb_checkpoints/covid-plots-checkpoint.ipynb
       "   <script type=\"text/javascript\" data-lets-plot-script=\"library\">\n",
       "       if(!window.letsPlotCallQueue) {\n",
       "           window.letsPlotCallQueue = [];\n",
       "       }; \n",
       "       window.letsPlotCall = function(f) {\n",
       "           window.letsPlotCallQueue.push(f);\n",
       "       };\n",
       "       (function() {\n",
       "           var script = document.createElement(\"script\");\n",
       "           script.type = \"text/javascript\";\n",
       "           script.src = \"https://dl.bintray.com/jetbrains/lets-plot/lets-plot-1.4.2.min.js\";\n",
       "           script.onload = function() {\n",
       "               window.letsPlotCall = function(f) {f();};\n",
       "               window.letsPlotCallQueue.forEach(function(f) {f();});\n",
       "               window.letsPlotCallQueue = [];\n",
       "               \n",
       "               \n",
       "           };\n",
       "           script.onerror = function(event) {\n",
       "               window.letsPlotCall = function(f) {};\n",
       "               window.letsPlotCallQueue = [];\n",
       "               var div = document.createElement(\"div\");\n",
       "               div.style.color = 'darkred';\n",
       "               div.textContent = 'Error loading Lets-Plot JS';\n",
<<<<<<< HEAD:.ipynb_checkpoints/Untitled-checkpoint.ipynb
       "               document.getElementById(\"bZLYui\").appendChild(div);\n",
       "           };\n",
       "           var e = document.getElementById(\"bZLYui\");\n",
=======
       "               document.getElementById(\"qf5sXe\").appendChild(div);\n",
       "           };\n",
       "           var e = document.getElementById(\"qf5sXe\");\n",
>>>>>>> 30757cf9ff11ae4d3d2e80185bc354b2728596cd:.ipynb_checkpoints/covid-plots-checkpoint.ipynb
       "           e.appendChild(script);\n",
       "       })();\n",
       "   </script>"
      ]
     },
     "metadata": {},
     "output_type": "display_data"
    }
   ],
   "source": [
    "%use lets-plot"
   ]
  },
  {
   "cell_type": "code",
   "execution_count": 3,
   "metadata": {},
   "outputs": [
    {
     "name": "stdout",
     "output_type": "stream",
     "text": [
      "Casos cerrados: 4613067 \n",
      "Casos activos: 3455487"
     ]
    }
   ],
   "source": [
    "val casos_mundial = 8068554\n",
    "\n",
    "val muertes_mundial = 437402\n",
    "\n",
    "val recuperados_mundial = 4175665\n",
    "\n",
    "var casos_cerrados = muertes_mundial + recuperados_mundial\n",
    "\n",
    "var casos_activos = casos_mundial - casos_cerrados \n",
    "\n",
    "print(\"Casos cerrados: ${casos_cerrados} \\nCasos activos: ${casos_activos}\")"
   ]
  },
  {
   "cell_type": "code",
<<<<<<< HEAD:.ipynb_checkpoints/Untitled-checkpoint.ipynb
   "execution_count": 4,
=======
   "execution_count": 3,
>>>>>>> 30757cf9ff11ae4d3d2e80185bc354b2728596cd:.ipynb_checkpoints/covid-plots-checkpoint.ipynb
   "metadata": {},
   "outputs": [],
   "source": [
    "val datos = mapOf<String,Any>(\n",
    "            \"Conceptos\" to listOf(\"Mundial\", \"Cerrados\", \"Muertes\", \"Recuperados\", \"Activos\"),\n",
    "            \"Casos\" to listOf(casos_mundial, casos_cerrados, muertes_mundial, recuperados_mundial, casos_activos)\n",
    ")"
   ]
  },
  {
   "cell_type": "code",
   "execution_count": 7,
   "metadata": {},
   "outputs": [
    {
     "data": {
      "text/html": [
<<<<<<< HEAD:.ipynb_checkpoints/Untitled-checkpoint.ipynb
       "   <div id=\"z00Es7\"></div>\n",
=======
       "   <div id=\"ofQZat\"></div>\n",
>>>>>>> 30757cf9ff11ae4d3d2e80185bc354b2728596cd:.ipynb_checkpoints/covid-plots-checkpoint.ipynb
       "   <script type=\"text/javascript\" data-lets-plot-script=\"plot\">\n",
       "       (function() {\n",
       "           var plotSpec={\n",
       "'ggtitle':{\n",
       "'text':\"COVID - 19: Junio 15\"\n",
       "},\n",
       "'mapping':{\n",
       "},\n",
       "'data':{\n",
       "'Conceptos':[\"Mundial\",\"Cerrados\",\"Muertes\",\"Recuperados\",\"Activos\"],\n",
       "'Casos':[8068554.0,4613067.0,437402.0,4175665.0,3455487.0]\n",
       "},\n",
       "'kind':\"plot\",\n",
       "'scales':[],\n",
       "'layers':[{\n",
       "'stat':\"identity\",\n",
       "'mapping':{\n",
       "'x':\"Conceptos\",\n",
       "'y':\"Casos\",\n",
<<<<<<< HEAD:.ipynb_checkpoints/Untitled-checkpoint.ipynb
       "'fill':\"Casos\"\n",
       "},\n",
       "'data':{\n",
       "},\n",
       "'position':\"identity\",\n",
       "'geom':\"point\"\n",
       "}]\n",
       "};\n",
       "           var plotContainer = document.getElementById(\"z00Es7\");\n",
=======
       "'fill':\"Conceptos\"\n",
       "},\n",
       "'data':{\n",
       "},\n",
       "'position':\"stack\",\n",
       "'geom':\"bar\"\n",
       "}]\n",
       "};\n",
       "           var plotContainer = document.getElementById(\"ofQZat\");\n",
>>>>>>> 30757cf9ff11ae4d3d2e80185bc354b2728596cd:.ipynb_checkpoints/covid-plots-checkpoint.ipynb
       "           window.letsPlotCall(function() {{\n",
       "               LetsPlot.buildPlotFromProcessedSpecs(plotSpec, -1, -1, plotContainer);\n",
       "           }});\n",
       "       })();    \n",
       "   </script>"
      ]
     },
     "execution_count": 7,
     "metadata": {},
     "output_type": "execute_result"
    }
   ],
   "source": [
<<<<<<< HEAD:.ipynb_checkpoints/Untitled-checkpoint.ipynb
    "val layer =  geom_point {\n",
    "    x = \"Conceptos\" \n",
    "    y = \"Casos\"\n",
    "    fill = \"Casos\"\n",
=======
    "var z = lets_plot(datos)\n",
    "\n",
    "val layer = geom_bar(stat = Stat.identity){\n",
    "    x = \"Conceptos\"\n",
    "    y = \"Casos\"\n",
    "    fill = \"Conceptos\"\n",
>>>>>>> 30757cf9ff11ae4d3d2e80185bc354b2728596cd:.ipynb_checkpoints/covid-plots-checkpoint.ipynb
    "}\n",
    "\n",
    "val titulo = ggtitle(\"Estadisticas: Junio 15\")\n",
    "\n",
    "(z + layer + titulo)"
   ]
  },
  {
   "cell_type": "code",
   "execution_count": null,
   "metadata": {},
   "outputs": [],
   "source": []
  }
 ],
 "metadata": {
  "kernelspec": {
   "display_name": "Kotlin",
   "language": "kotlin",
   "name": "kotlin"
  },
  "language_info": {
   "codemirror_mode": "text/x-kotlin",
   "file_extension": ".kt",
   "mimetype": "text/x-kotlin",
   "name": "kotlin",
   "pygments_lexer": "kotlin",
   "version": "1.4.0-dev-7568"
  }
 },
 "nbformat": 4,
 "nbformat_minor": 2
}
