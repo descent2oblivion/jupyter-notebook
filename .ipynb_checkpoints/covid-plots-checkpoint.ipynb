{
 "cells": [
  {
   "cell_type": "code",
   "execution_count": null,
   "metadata": {},
   "outputs": [],
   "source": [
    "%use lets-plot"
   ]
  },
  {
   "cell_type": "markdown",
   "metadata": {},
   "source": [
    "## Clase coronavirus\n",
    "#### Se le provee de cuatro parametros (lugar, total, muertes, recuperados) y calculara el resumen de los casos de dicho lugar, a esto se le llama \"Objeto de coronavirus\""
   ]
  },
  {
   "cell_type": "code",
   "execution_count": null,
   "metadata": {},
   "outputs": [],
   "source": [
    "class coronavirus(_lugar : String, _total : Int, _muertes : Int, _recuperados : Int){\n",
    "    \n",
    "    var lugar = _lugar\n",
    "    var casos = 0\n",
    "    var muertes = 0\n",
    "    var recuperados = 0\n",
    "    var cerrados = 0\n",
    "    var activos = 0\n",
    "    var resumen = \"\"\n",
    "    var lista = listOf(0) \n",
    "    \n",
    "    init{\n",
    "        casos = _total\n",
    "\n",
    "        muertes = _muertes\n",
    "\n",
    "        recuperados = _recuperados\n",
    "\n",
    "        cerrados = muertes + recuperados\n",
    "\n",
    "        activos = casos - cerrados \n",
    "        \n",
    "        lista = listOf(casos, cerrados, activos, recuperados, muertes)\n",
    "        \n",
    "        resumen = \"${lugar}:\\n\" + \n",
    "        \"Total de casos: ${casos}\\n\" + \n",
    "        \"De los cuales ${cerrados} han sido cerrados  y quedan ${activos} activos.\\n\" + \n",
    "        \"De los casos cerrados ${recuperados} se han recuperado y ${muertes} han muerto\"\n",
    "    }\n",
    "}"
   ]
  },
  {
   "cell_type": "markdown",
   "metadata": {},
   "source": [
    "## Clase grafica\n",
    "#### Se le provee de un parametro (\"Objeto de coronavirus\") y como resultado calculara la grafica de dicho objeto"
   ]
  },
  {
   "cell_type": "code",
   "execution_count": null,
   "metadata": {},
   "outputs": [],
   "source": [
    "class grafica(objeto_covid : coronavirus, _titulo : String){\n",
    "    \n",
    "    \n",
    "    val datos = mapOf<String,Any>(\n",
    "        \"Conceptos\" to listOf(\"Total\", \"Cerrados\", \"Activos\", \"Recuperados\", \"Muertes\"),\n",
    "        \"Casos\" to objeto_covid.lista\n",
    "    )\n",
    "\n",
    "    var z = lets_plot(datos)\n",
    "\n",
    "    val layer = geom_bar(stat = Stat.identity){\n",
    "        x = \"Conceptos\"\n",
    "        y = \"Casos\"\n",
    "        fill = \"Conceptos\"\n",
    "    }\n",
    "\n",
    "    val title = ggtitle(\"${objeto_covid.lugar} - ${_titulo}\")\n",
    "\n",
    "    val graph = (z + layer + title)\n",
    "    \n",
    "}"
   ]
  },
  {
   "cell_type": "markdown",
   "metadata": {},
   "source": [
    "# Analisis de: Mundo"
   ]
  },
  {
   "cell_type": "code",
   "execution_count": null,
   "metadata": {},
   "outputs": [],
   "source": [
    "var mundo : coronavirus = coronavirus(\"Mundo\", 8227163, 444434, 4279126)\n",
    "var graf_mundo : grafica = grafica(mundo, \"Junio 16\")\n",
    "\n",
    "print(mundo.resumen)\n",
    "graf_mundo.graph"
   ]
  },
  {
   "cell_type": "markdown",
   "metadata": {},
   "source": [
    "# Analisis de: Mexico"
   ]
  },
  {
   "cell_type": "code",
   "execution_count": null,
   "metadata": {},
   "outputs": [],
   "source": [
    "var mexico : coronavirus = coronavirus(\"Mexico\", 150264, 17580, 113006)\n",
    "var graf_mex = grafica(mexico, \"16 Junio\")\n",
    "\n",
    "print(mexico.resumen)\n",
    "graf_mex.graph"
   ]
  },
  {
   "cell_type": "markdown",
   "metadata": {},
   "source": [
    "# Analisis de: USA"
   ]
  },
  {
   "cell_type": "code",
   "execution_count": null,
   "metadata": {},
   "outputs": [],
   "source": [
    "var usa : coronavirus = coronavirus(\"USA\", 2202529, 118997, 896448)\n",
    "var graf_usa = grafica(usa, \"16 Junio\")\n",
    "\n",
    "print(usa.resumen)\n",
    "graf_usa.graph"
   ]
  },
  {
   "cell_type": "markdown",
   "metadata": {},
   "source": [
    "# Analisis de: Alemania"
   ]
  },
  {
   "cell_type": "code",
   "execution_count": null,
   "metadata": {},
   "outputs": [],
   "source": [
    "var alemania : coronavirus = coronavirus(\"Alemania\", 188382, 8910, 173100)\n",
    "var graf_ale : grafica = grafica(alemania, \"Junio 16\")\n",
    "\n",
    "print(alemania.resumen)\n",
    "graf_ale.graph"
   ]
  },
  {
   "cell_type": "markdown",
   "metadata": {},
   "source": [
    "# Analisis de: Rusia"
   ]
  },
  {
   "cell_type": "code",
   "execution_count": null,
   "metadata": {},
   "outputs": [],
   "source": [
    "var rusia : coronavirus = coronavirus(\"Rusia\", 545458, 7284, 294306)\n",
    "var graf_rusia : grafica = grafica(rusia, \"Junio 16\")\n",
    "\n",
    "print(rusia.resumen)\n",
    "graf_rusia.graph"
   ]
  },
  {
   "cell_type": "code",
   "execution_count": null,
   "metadata": {},
   "outputs": [],
   "source": []
  }
 ],
 "metadata": {
  "kernelspec": {
   "display_name": "Kotlin",
   "language": "kotlin",
   "name": "kotlin"
  },
  "language_info": {
   "codemirror_mode": "text/x-kotlin",
   "file_extension": ".kt",
   "mimetype": "text/x-kotlin",
   "name": "kotlin",
   "pygments_lexer": "kotlin",
   "version": "1.4.0-dev-7568"
  }
 },
 "nbformat": 4,
 "nbformat_minor": 2
}
