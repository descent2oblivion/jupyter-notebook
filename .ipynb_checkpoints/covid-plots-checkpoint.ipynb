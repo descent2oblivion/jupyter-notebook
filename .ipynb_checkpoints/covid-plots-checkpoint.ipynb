{
 "cells": [
  {
   "cell_type": "markdown",
   "metadata": {},
   "source": [
    "# Analisis de la pandemia COVID - 19\n",
    "#### Usando tecnicas de ciencia de datos y analisis de datos se ha logrado mostrar de forma grafica un resumen de la pandemia para el mundo y algunos paises que estan pasando por eventos particularmente interesantes.\n",
    "#### Los datos aqui presentados fueron tomados de https://www.worldometers.info/coronavirus/ al medio dia del 16 de Junio del 2020\n",
    "## Analisis realizado por: Ing. Emmanuel Chavez Gallegos"
   ]
  },
  {
   "cell_type": "markdown",
   "metadata": {},
   "source": [
    "<br/>\n",
    "<br/>\n",
    "<br/>\n",
    "<br/>\n",
    "<br/>\n",
    "<br/>\n",
    "<br/>\n",
    "<br/>\n",
    "<br/>\n",
    "<br/>\n",
    "<br/>\n",
    "<br/>\n",
    "<br/>\n",
    "<br/>\n",
    "<br/>\n",
    "<br/>\n",
    "<br/>\n",
    "<br/>\n",
    "<br/>\n",
    "<br/>\n",
    "<br/>\n",
    "<br/>\n",
    "<br/>\n",
    "<br/>\n",
    "<br/>\n",
    "<br/>\n",
    "<br/>\n",
    "<br/>\n",
    "<br/>\n",
    "<br/>\n",
    "<br/>\n",
    "<br/>\n",
    "<br/>\n",
    "<br/>\n",
    "<br/>"
   ]
  },
  {
   "cell_type": "markdown",
   "metadata": {},
   "source": [
    "## Clase coronavirus\n",
    "#### Se le provee de cuatro parametros (lugar, total, muertes, recuperados) y calculara el resumen de los casos de dicho lugar, a esto se le llama \"Objeto de coronavirus\""
   ]
  },
  {
   "cell_type": "code",
   "execution_count": 1,
   "metadata": {},
   "outputs": [
    {
     "data": {
      "text/html": [
       "   <div id=\"ap2dfV\"></div>\n",
       "   <script type=\"text/javascript\" data-lets-plot-script=\"library\">\n",
       "       if(!window.letsPlotCallQueue) {\n",
       "           window.letsPlotCallQueue = [];\n",
       "       }; \n",
       "       window.letsPlotCall = function(f) {\n",
       "           window.letsPlotCallQueue.push(f);\n",
       "       };\n",
       "       (function() {\n",
       "           var script = document.createElement(\"script\");\n",
       "           script.type = \"text/javascript\";\n",
       "           script.src = \"https://dl.bintray.com/jetbrains/lets-plot/lets-plot-1.4.2.min.js\";\n",
       "           script.onload = function() {\n",
       "               window.letsPlotCall = function(f) {f();};\n",
       "               window.letsPlotCallQueue.forEach(function(f) {f();});\n",
       "               window.letsPlotCallQueue = [];\n",
       "               \n",
       "               \n",
       "           };\n",
       "           script.onerror = function(event) {\n",
       "               window.letsPlotCall = function(f) {};\n",
       "               window.letsPlotCallQueue = [];\n",
       "               var div = document.createElement(\"div\");\n",
       "               div.style.color = 'darkred';\n",
       "               div.textContent = 'Error loading Lets-Plot JS';\n",
       "               document.getElementById(\"ap2dfV\").appendChild(div);\n",
       "           };\n",
       "           var e = document.getElementById(\"ap2dfV\");\n",
       "           e.appendChild(script);\n",
       "       })();\n",
       "   </script>"
      ]
     },
     "metadata": {},
     "output_type": "display_data"
    }
   ],
   "source": [
    "%use lets-plot"
   ]
  },
  {
   "cell_type": "code",
   "execution_count": 2,
   "metadata": {},
   "outputs": [],
   "source": [
    "class coronavirus(_lugar : String, _total : Int, _muertes : Int, _recuperados : Int){\n",
    "    \n",
    "    var lugar = \"\"\n",
    "    var casos = 0\n",
    "    var muertes = 0\n",
    "    var recuperados = 0\n",
    "    var cerrados = 0\n",
    "    var activos = 0\n",
    "    var resumen = \"\"\n",
    "    var lista = listOf(0) \n",
    "    \n",
    "    init{\n",
    "        lugar = _lugar\n",
    "        \n",
    "        casos = _total\n",
    "\n",
    "        muertes = _muertes\n",
    "\n",
    "        recuperados = _recuperados\n",
    "\n",
    "        cerrados = muertes + recuperados\n",
    "\n",
    "        activos = casos - cerrados \n",
    "        \n",
    "        lista = listOf(casos, cerrados, activos, recuperados, muertes)\n",
    "        \n",
    "        resumen = \"${lugar}:\\n\" + \n",
    "        \"Total de casos: ${casos}\\n\" + \n",
    "        \"De los cuales ${cerrados} han sido cerrados  y quedan ${activos} activos.\\n\" + \n",
    "        \"De los casos cerrados ${recuperados} se han recuperado y ${muertes} han muerto\"\n",
    "    }\n",
    "}"
   ]
  },
  {
   "cell_type": "markdown",
   "metadata": {},
   "source": [
    "<br/>\n",
    "<br/>\n",
    "<br/>\n",
    "<br/>\n",
    "<br/>\n",
    "<br/>"
   ]
  },
  {
   "cell_type": "markdown",
   "metadata": {},
   "source": [
    "## Clase grafica\n",
    "#### Se le provee de dos parametros (\"Objeto de coronavirus\", fecha) y como resultado calculara la grafica de dicho objeto"
   ]
  },
  {
   "cell_type": "code",
   "execution_count": 3,
   "metadata": {},
   "outputs": [],
   "source": [
    "class grafica(objeto_covid : coronavirus, _titulo : String){\n",
    "    \n",
    "    \n",
    "    val datos = mapOf<String,Any>(\n",
    "        \"Conceptos\" to listOf(\"Total\", \"Cerrados\", \"Activos\", \"Recuperados\", \"Muertes\"),\n",
    "        \"Casos\" to objeto_covid.lista\n",
    "    )\n",
    "\n",
    "    var z = lets_plot(datos)\n",
    "\n",
    "    val layer = geom_bar(stat = Stat.identity){\n",
    "        x = \"Conceptos\"\n",
    "        y = \"Casos\"\n",
    "        fill = \"Conceptos\"\n",
    "    }\n",
    "\n",
    "    val title = ggtitle(\"${objeto_covid.lugar} - ${_titulo}\")\n",
    "\n",
    "    val graph = (z + layer + title)\n",
    "    \n",
    "}"
   ]
  },
  {
   "cell_type": "markdown",
   "metadata": {},
   "source": [
    "<br/>\n",
    "<br/>\n",
    "<br/>\n",
    "<br/>\n",
    "<br/>\n",
    "<br/>\n",
    "<br/>\n",
    "<br/>\n",
    "<br/>\n",
    "<br/>\n",
    "<br/>\n",
    "<br/>\n",
    "<br/>\n",
    "<br/>\n",
    "<br/>\n",
    "<br/>\n",
    "<br/>\n",
    "<br/>\n",
    "<br/>\n",
    "<br/>\n",
    "<br/>\n",
    "<br/>\n",
    "<br/>"
   ]
  },
  {
   "cell_type": "markdown",
   "metadata": {},
   "source": [
    "# Analisis de: Mundo"
   ]
  },
  {
   "cell_type": "code",
   "execution_count": 4,
   "metadata": {},
   "outputs": [
    {
     "name": "stdout",
     "output_type": "stream",
     "text": [
      "Mundo:\n",
      "Total de casos: 8227163\n",
      "De los cuales 4723560 han sido cerrados  y quedan 3503603 activos.\n",
      "De los casos cerrados 4279126 se han recuperado y 444434 han muerto"
     ]
    },
    {
     "data": {
      "text/html": [
       "   <div id=\"99ObYJ\"></div>\n",
       "   <script type=\"text/javascript\" data-lets-plot-script=\"plot\">\n",
       "       (function() {\n",
       "           var plotSpec={\n",
       "'ggtitle':{\n",
       "'text':\"Mundo - Junio 16\"\n",
       "},\n",
       "'mapping':{\n",
       "},\n",
       "'data':{\n",
       "'Conceptos':[\"Total\",\"Cerrados\",\"Activos\",\"Recuperados\",\"Muertes\"],\n",
       "'Casos':[8227163.0,4723560.0,3503603.0,4279126.0,444434.0]\n",
       "},\n",
       "'kind':\"plot\",\n",
       "'scales':[],\n",
       "'layers':[{\n",
       "'stat':\"identity\",\n",
       "'mapping':{\n",
       "'x':\"Conceptos\",\n",
       "'y':\"Casos\",\n",
       "'fill':\"Conceptos\"\n",
       "},\n",
       "'data':{\n",
       "},\n",
       "'position':\"stack\",\n",
       "'geom':\"bar\"\n",
       "}]\n",
       "};\n",
       "           var plotContainer = document.getElementById(\"99ObYJ\");\n",
       "           window.letsPlotCall(function() {{\n",
       "               LetsPlot.buildPlotFromProcessedSpecs(plotSpec, -1, -1, plotContainer);\n",
       "           }});\n",
       "       })();    \n",
       "   </script>"
      ]
     },
     "execution_count": 4,
     "metadata": {},
     "output_type": "execute_result"
    }
   ],
   "source": [
    "var mundo : coronavirus = coronavirus(\"Mundo\", 8227163, 444434, 4279126)\n",
    "var graf_mundo : grafica = grafica(mundo, \"Junio 16\")\n",
    "\n",
    "print(mundo.resumen)\n",
    "graf_mundo.graph"
   ]
  },
  {
   "cell_type": "markdown",
   "metadata": {},
   "source": [
    "## Interpretacion\n",
    "#### Un poco mas de la mitad de los casos a nivel mundial se han cerrado, ya sea por la recuperacion del paciente o por su muerte. Actualmente hay mas casos recuperados que casos activos, esto debido a la correcta implementacion y ejecucion de medidas de seguridad en muchos paises. Por otro lado, el numero de muertes se aproxima al medio millon de personas"
   ]
  },
  {
   "cell_type": "markdown",
   "metadata": {},
   "source": [
    "<br/>\n",
    "<br/>\n",
    "<br/>\n",
    "<br/>\n",
    "<br/>\n",
    "<br/>\n",
    "<br/>\n",
    "<br/>"
   ]
  },
  {
   "cell_type": "markdown",
   "metadata": {},
   "source": [
    "# Analisis de: Mexico"
   ]
  },
  {
   "cell_type": "code",
   "execution_count": 5,
   "metadata": {},
   "outputs": [
    {
     "name": "stdout",
     "output_type": "stream",
     "text": [
      "Mexico:\n",
      "Total de casos: 150264\n",
      "De los cuales 130586 han sido cerrados  y quedan 19678 activos.\n",
      "De los casos cerrados 113006 se han recuperado y 17580 han muerto"
     ]
    },
    {
     "data": {
      "text/html": [
       "   <div id=\"j2oV8y\"></div>\n",
       "   <script type=\"text/javascript\" data-lets-plot-script=\"plot\">\n",
       "       (function() {\n",
       "           var plotSpec={\n",
       "'ggtitle':{\n",
       "'text':\"Mexico - Junio 16\"\n",
       "},\n",
       "'mapping':{\n",
       "},\n",
       "'data':{\n",
       "'Conceptos':[\"Total\",\"Cerrados\",\"Activos\",\"Recuperados\",\"Muertes\"],\n",
       "'Casos':[150264.0,130586.0,19678.0,113006.0,17580.0]\n",
       "},\n",
       "'kind':\"plot\",\n",
       "'scales':[],\n",
       "'layers':[{\n",
       "'stat':\"identity\",\n",
       "'mapping':{\n",
       "'x':\"Conceptos\",\n",
       "'y':\"Casos\",\n",
       "'fill':\"Conceptos\"\n",
       "},\n",
       "'data':{\n",
       "},\n",
       "'position':\"stack\",\n",
       "'geom':\"bar\"\n",
       "}]\n",
       "};\n",
       "           var plotContainer = document.getElementById(\"j2oV8y\");\n",
       "           window.letsPlotCall(function() {{\n",
       "               LetsPlot.buildPlotFromProcessedSpecs(plotSpec, -1, -1, plotContainer);\n",
       "           }});\n",
       "       })();    \n",
       "   </script>"
      ]
     },
     "execution_count": 5,
     "metadata": {},
     "output_type": "execute_result"
    }
   ],
   "source": [
    "var mexico : coronavirus = coronavirus(\"Mexico\", 150264, 17580, 113006)\n",
    "var graf_mex : grafica = grafica(mexico, \"Junio 16\")\n",
    "\n",
    "print(mexico.resumen)\n",
    "graf_mex.graph"
   ]
  },
  {
   "cell_type": "markdown",
   "metadata": {},
   "source": [
    "## Interpretacion\n",
    "#### La mayoria de casos en Mexico se han dado por cerrados, ya sea por la recuperacion del paciente o por su muerte. Actualmente el numero de activos es muy inferior al numero de recuperados, pero esta experimentando un crecimiento acelerado de casi mil (1000) por dia debido a la pobre implementacion de medidas de seguridad y pobre ejecucion de las mismas."
   ]
  },
  {
   "cell_type": "markdown",
   "metadata": {},
   "source": [
    "<br/>\n",
    "<br/>\n",
    "<br/>\n",
    "<br/>\n",
    "<br/>\n",
    "<br/>\n",
    "<br/>\n",
    "<br/>"
   ]
  },
  {
   "cell_type": "markdown",
   "metadata": {},
   "source": [
    "# Analisis de: USA"
   ]
  },
  {
   "cell_type": "code",
   "execution_count": 6,
   "metadata": {},
   "outputs": [
    {
     "name": "stdout",
     "output_type": "stream",
     "text": [
      "USA:\n",
      "Total de casos: 2202529\n",
      "De los cuales 1015445 han sido cerrados  y quedan 1187084 activos.\n",
      "De los casos cerrados 896448 se han recuperado y 118997 han muerto"
     ]
    },
    {
     "data": {
      "text/html": [
       "   <div id=\"8EGRzF\"></div>\n",
       "   <script type=\"text/javascript\" data-lets-plot-script=\"plot\">\n",
       "       (function() {\n",
       "           var plotSpec={\n",
       "'ggtitle':{\n",
       "'text':\"USA - Junio 16\"\n",
       "},\n",
       "'mapping':{\n",
       "},\n",
       "'data':{\n",
       "'Conceptos':[\"Total\",\"Cerrados\",\"Activos\",\"Recuperados\",\"Muertes\"],\n",
       "'Casos':[2202529.0,1015445.0,1187084.0,896448.0,118997.0]\n",
       "},\n",
       "'kind':\"plot\",\n",
       "'scales':[],\n",
       "'layers':[{\n",
       "'stat':\"identity\",\n",
       "'mapping':{\n",
       "'x':\"Conceptos\",\n",
       "'y':\"Casos\",\n",
       "'fill':\"Conceptos\"\n",
       "},\n",
       "'data':{\n",
       "},\n",
       "'position':\"stack\",\n",
       "'geom':\"bar\"\n",
       "}]\n",
       "};\n",
       "           var plotContainer = document.getElementById(\"8EGRzF\");\n",
       "           window.letsPlotCall(function() {{\n",
       "               LetsPlot.buildPlotFromProcessedSpecs(plotSpec, -1, -1, plotContainer);\n",
       "           }});\n",
       "       })();    \n",
       "   </script>"
      ]
     },
     "execution_count": 6,
     "metadata": {},
     "output_type": "execute_result"
    }
   ],
   "source": [
    "var usa : coronavirus = coronavirus(\"USA\", 2202529, 118997, 896448)\n",
    "var graf_usa : grafica = grafica(usa, \"Junio 16\")\n",
    "\n",
    "print(usa.resumen)\n",
    "graf_usa.graph"
   ]
  },
  {
   "cell_type": "markdown",
   "metadata": {},
   "source": [
    "## Interpretacion\n",
    "##### USA sigue bajo los efectos de la primera oleada del virus, evidencia de esto es que el numero de activos es superior a la mitad de los casos registrados, y a su vez mayor que el numero de recuperados. Esto se debe a la falta de ejecucion de las medidas de seguridad impuestas por el gobierno. Esto es particularmente peligroso para los paises vecinos debido a que el indice de propagacion es mas rapido que en otros paises."
   ]
  },
  {
   "cell_type": "markdown",
   "metadata": {},
   "source": [
    "<br/>\n",
    "<br/>\n",
    "<br/>\n",
    "<br/>\n",
    "<br/>\n",
    "<br/>\n",
    "<br/>\n",
    "<br/>"
   ]
  },
  {
   "cell_type": "markdown",
   "metadata": {},
   "source": [
    "# Analisis de: Alemania"
   ]
  },
  {
   "cell_type": "code",
   "execution_count": 7,
   "metadata": {},
   "outputs": [
    {
     "name": "stdout",
     "output_type": "stream",
     "text": [
      "Alemania:\n",
      "Total de casos: 188382\n",
      "De los cuales 182010 han sido cerrados  y quedan 6372 activos.\n",
      "De los casos cerrados 173100 se han recuperado y 8910 han muerto"
     ]
    },
    {
     "data": {
      "text/html": [
       "   <div id=\"DPcGT6\"></div>\n",
       "   <script type=\"text/javascript\" data-lets-plot-script=\"plot\">\n",
       "       (function() {\n",
       "           var plotSpec={\n",
       "'ggtitle':{\n",
       "'text':\"Alemania - Junio 16\"\n",
       "},\n",
       "'mapping':{\n",
       "},\n",
       "'data':{\n",
       "'Conceptos':[\"Total\",\"Cerrados\",\"Activos\",\"Recuperados\",\"Muertes\"],\n",
       "'Casos':[188382.0,182010.0,6372.0,173100.0,8910.0]\n",
       "},\n",
       "'kind':\"plot\",\n",
       "'scales':[],\n",
       "'layers':[{\n",
       "'stat':\"identity\",\n",
       "'mapping':{\n",
       "'x':\"Conceptos\",\n",
       "'y':\"Casos\",\n",
       "'fill':\"Conceptos\"\n",
       "},\n",
       "'data':{\n",
       "},\n",
       "'position':\"stack\",\n",
       "'geom':\"bar\"\n",
       "}]\n",
       "};\n",
       "           var plotContainer = document.getElementById(\"DPcGT6\");\n",
       "           window.letsPlotCall(function() {{\n",
       "               LetsPlot.buildPlotFromProcessedSpecs(plotSpec, -1, -1, plotContainer);\n",
       "           }});\n",
       "       })();    \n",
       "   </script>"
      ]
     },
     "execution_count": 7,
     "metadata": {},
     "output_type": "execute_result"
    }
   ],
   "source": [
    "var alemania : coronavirus = coronavirus(\"Alemania\", 188382, 8910, 173100)\n",
    "var graf_ale : grafica = grafica(alemania, \"Junio 16\")\n",
    "\n",
    "print(alemania.resumen)\n",
    "graf_ale.graph"
   ]
  },
  {
   "cell_type": "markdown",
   "metadata": {},
   "source": [
    "## Interpretacion\n",
    "#### Alemania es el pais que mejor se ha defendido durante la pandemia, con aproximadamente el 96% de los casos cerrados, de los cuales el 95% fueron la recuperacion del paciente. Actualmente solo queda un 3.38% de casos activos, por lo que probablemente sea Alemania el primer pais en salir de la pandemia. Todo esto se debe a la gran cantidad de medidas de seguridad impuestas por el gobierno aleman y a la correcta ejecucion de las mismas por parte de la poblacion."
   ]
  },
  {
   "cell_type": "markdown",
   "metadata": {},
   "source": [
    "<br/>\n",
    "<br/>\n",
    "<br/>\n",
    "<br/>\n",
    "<br/>\n",
    "<br/>\n",
    "<br/>\n",
    "<br/>"
   ]
  },
  {
   "cell_type": "markdown",
   "metadata": {},
   "source": [
    "# Analisis de: Rusia"
   ]
  },
  {
   "cell_type": "code",
   "execution_count": 8,
   "metadata": {},
   "outputs": [
    {
     "name": "stdout",
     "output_type": "stream",
     "text": [
      "Rusia:\n",
      "Total de casos: 545458\n",
      "De los cuales 301590 han sido cerrados  y quedan 243868 activos.\n",
      "De los casos cerrados 294306 se han recuperado y 7284 han muerto"
     ]
    },
    {
     "data": {
      "text/html": [
       "   <div id=\"OS9YAo\"></div>\n",
       "   <script type=\"text/javascript\" data-lets-plot-script=\"plot\">\n",
       "       (function() {\n",
       "           var plotSpec={\n",
       "'ggtitle':{\n",
       "'text':\"Rusia - Junio 16\"\n",
       "},\n",
       "'mapping':{\n",
       "},\n",
       "'data':{\n",
       "'Conceptos':[\"Total\",\"Cerrados\",\"Activos\",\"Recuperados\",\"Muertes\"],\n",
       "'Casos':[545458.0,301590.0,243868.0,294306.0,7284.0]\n",
       "},\n",
       "'kind':\"plot\",\n",
       "'scales':[],\n",
       "'layers':[{\n",
       "'stat':\"identity\",\n",
       "'mapping':{\n",
       "'x':\"Conceptos\",\n",
       "'y':\"Casos\",\n",
       "'fill':\"Conceptos\"\n",
       "},\n",
       "'data':{\n",
       "},\n",
       "'position':\"stack\",\n",
       "'geom':\"bar\"\n",
       "}]\n",
       "};\n",
       "           var plotContainer = document.getElementById(\"OS9YAo\");\n",
       "           window.letsPlotCall(function() {{\n",
       "               LetsPlot.buildPlotFromProcessedSpecs(plotSpec, -1, -1, plotContainer);\n",
       "           }});\n",
       "       })();    \n",
       "   </script>"
      ]
     },
     "execution_count": 8,
     "metadata": {},
     "output_type": "execute_result"
    }
   ],
   "source": [
    "var rusia : coronavirus = coronavirus(\"Rusia\", 545458, 7284, 294306)\n",
    "var graf_rusia : grafica = grafica(rusia, \"Junio 16\")\n",
    "\n",
    "print(rusia.resumen)\n",
    "graf_rusia.graph"
   ]
  },
  {
   "cell_type": "markdown",
   "metadata": {},
   "source": [
    "## Interpretacion\n",
    "#### Rusia tiene el indice de recuperacion mas alto del mundo con un 97% de probabilidad de supervivencia y solo un 3% de mortalidad. Esto se debe en gran medida a los diversos esfuerzos del gobierno implementando medidas de seguridad y desarrollando farmacos para tratar a los pacientes infectados. Actualmente esta experimentando crecimiento en su cantidad de casos cerrados por recuperacion y disminucion en la tasa de propagacion, siendo el numero de activos menor al numero de recuperados."
   ]
  }
 ],
 "metadata": {
  "kernelspec": {
   "display_name": "Kotlin",
   "language": "kotlin",
   "name": "kotlin"
  },
  "language_info": {
   "codemirror_mode": "text/x-kotlin",
   "file_extension": ".kt",
   "mimetype": "text/x-kotlin",
   "name": "kotlin",
   "pygments_lexer": "kotlin",
   "version": "1.4.0-dev-7568"
  }
 },
 "nbformat": 4,
 "nbformat_minor": 2
}
