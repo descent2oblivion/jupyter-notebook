{
 "cells": [
  {
   "cell_type": "code",
   "execution_count": 2,
   "metadata": {},
   "outputs": [
    {
     "data": {
      "text/html": [
       "   <div id=\"bZLYui\"></div>\n",
       "   <script type=\"text/javascript\" data-lets-plot-script=\"library\">\n",
       "       if(!window.letsPlotCallQueue) {\n",
       "           window.letsPlotCallQueue = [];\n",
       "       }; \n",
       "       window.letsPlotCall = function(f) {\n",
       "           window.letsPlotCallQueue.push(f);\n",
       "       };\n",
       "       (function() {\n",
       "           var script = document.createElement(\"script\");\n",
       "           script.type = \"text/javascript\";\n",
       "           script.src = \"https://dl.bintray.com/jetbrains/lets-plot/lets-plot-1.4.2.min.js\";\n",
       "           script.onload = function() {\n",
       "               window.letsPlotCall = function(f) {f();};\n",
       "               window.letsPlotCallQueue.forEach(function(f) {f();});\n",
       "               window.letsPlotCallQueue = [];\n",
       "               \n",
       "               \n",
       "           };\n",
       "           script.onerror = function(event) {\n",
       "               window.letsPlotCall = function(f) {};\n",
       "               window.letsPlotCallQueue = [];\n",
       "               var div = document.createElement(\"div\");\n",
       "               div.style.color = 'darkred';\n",
       "               div.textContent = 'Error loading Lets-Plot JS';\n",
       "               document.getElementById(\"bZLYui\").appendChild(div);\n",
       "           };\n",
       "           var e = document.getElementById(\"bZLYui\");\n",
       "           e.appendChild(script);\n",
       "       })();\n",
       "   </script>"
      ]
     },
     "metadata": {},
     "output_type": "display_data"
    }
   ],
   "source": [
    "%use lets-plot"
   ]
  },
  {
   "cell_type": "code",
   "execution_count": 3,
   "metadata": {},
   "outputs": [
    {
     "name": "stdout",
     "output_type": "stream",
     "text": [
      "Casos cerrados: 4613067 \n",
      "Casos_activos: 3455487"
     ]
    }
   ],
   "source": [
    "val casos_mundial = 8068554\n",
    "\n",
    "val muertes_mundial = 437402\n",
    "\n",
    "val recuperados_mundial = 4175665\n",
    "\n",
    "var casos_cerrados = muertes_mundial + recuperados_mundial\n",
    "\n",
    "var casos_activos = casos_mundial - casos_cerrados \n",
    "\n",
    "print(\"Casos cerrados: ${casos_cerrados} \\nCasos_activos: ${casos_activos}\")"
   ]
  },
  {
   "cell_type": "code",
   "execution_count": 4,
   "metadata": {},
   "outputs": [],
   "source": [
    "val data = mapOf<String,Any>(\n",
    "            \"Conceptos\" to listOf(\"Mundial\", \"Cerrados\", \"Muertes\", \"Recuperados\", \"Activos\"),\n",
    "            \"Casos\" to listOf(casos_mundial, casos_cerrados, muertes_mundial, recuperados_mundial, casos_activos)\n",
    ")\n",
    "val p = ggplot(data)"
   ]
  },
  {
   "cell_type": "code",
   "execution_count": 7,
   "metadata": {},
   "outputs": [
    {
     "data": {
      "text/html": [
       "   <div id=\"z00Es7\"></div>\n",
       "   <script type=\"text/javascript\" data-lets-plot-script=\"plot\">\n",
       "       (function() {\n",
       "           var plotSpec={\n",
       "'mapping':{\n",
       "},\n",
       "'data':{\n",
       "'Conceptos':[\"Mundial\",\"Cerrados\",\"Muertes\",\"Recuperados\",\"Activos\"],\n",
       "'Casos':[8068554.0,4613067.0,437402.0,4175665.0,3455487.0]\n",
       "},\n",
       "'kind':\"plot\",\n",
       "'scales':[],\n",
       "'layers':[{\n",
       "'stat':\"identity\",\n",
       "'mapping':{\n",
       "'x':\"Conceptos\",\n",
       "'y':\"Casos\",\n",
       "'fill':\"Casos\"\n",
       "},\n",
       "'data':{\n",
       "},\n",
       "'position':\"identity\",\n",
       "'geom':\"point\"\n",
       "}]\n",
       "};\n",
       "           var plotContainer = document.getElementById(\"z00Es7\");\n",
       "           window.letsPlotCall(function() {{\n",
       "               LetsPlot.buildPlotFromProcessedSpecs(plotSpec, -1, -1, plotContainer);\n",
       "           }});\n",
       "       })();    \n",
       "   </script>"
      ]
     },
     "execution_count": 7,
     "metadata": {},
     "output_type": "execute_result"
    }
   ],
   "source": [
    "val layer =  geom_point {\n",
    "    x = \"Conceptos\" \n",
    "    y = \"Casos\"\n",
    "    fill = \"Casos\"\n",
    "}\n",
    "\n",
    "(p + layer)"
   ]
  },
  {
   "cell_type": "code",
   "execution_count": null,
   "metadata": {},
   "outputs": [],
   "source": []
  }
 ],
 "metadata": {
  "kernelspec": {
   "display_name": "Kotlin",
   "language": "kotlin",
   "name": "kotlin"
  },
  "language_info": {
   "codemirror_mode": "text/x-kotlin",
   "file_extension": ".kt",
   "mimetype": "text/x-kotlin",
   "name": "kotlin",
   "pygments_lexer": "kotlin",
   "version": "1.4.0-dev-7568"
  }
 },
 "nbformat": 4,
 "nbformat_minor": 2
}
