{
 "cells": [
  {
   "cell_type": "code",
   "execution_count": 1,
   "metadata": {},
   "outputs": [
    {
     "data": {
      "text/html": [
       "   <div id=\"H71ThH\"></div>\n",
       "   <script type=\"text/javascript\" data-lets-plot-script=\"library\">\n",
       "       if(!window.letsPlotCallQueue) {\n",
       "           window.letsPlotCallQueue = [];\n",
       "       }; \n",
       "       window.letsPlotCall = function(f) {\n",
       "           window.letsPlotCallQueue.push(f);\n",
       "       };\n",
       "       (function() {\n",
       "           var script = document.createElement(\"script\");\n",
       "           script.type = \"text/javascript\";\n",
       "           script.src = \"https://dl.bintray.com/jetbrains/lets-plot/lets-plot-1.4.2.min.js\";\n",
       "           script.onload = function() {\n",
       "               window.letsPlotCall = function(f) {f();};\n",
       "               window.letsPlotCallQueue.forEach(function(f) {f();});\n",
       "               window.letsPlotCallQueue = [];\n",
       "               \n",
       "               \n",
       "           };\n",
       "           script.onerror = function(event) {\n",
       "               window.letsPlotCall = function(f) {};\n",
       "               window.letsPlotCallQueue = [];\n",
       "               var div = document.createElement(\"div\");\n",
       "               div.style.color = 'darkred';\n",
       "               div.textContent = 'Error loading Lets-Plot JS';\n",
       "               document.getElementById(\"H71ThH\").appendChild(div);\n",
       "           };\n",
       "           var e = document.getElementById(\"H71ThH\");\n",
       "           e.appendChild(script);\n",
       "       })();\n",
       "   </script>"
      ]
     },
     "metadata": {},
     "output_type": "display_data"
    }
   ],
   "source": [
    "%use lets-plot"
   ]
  },
  {
   "cell_type": "code",
   "execution_count": 2,
   "metadata": {},
   "outputs": [],
   "source": [
    "val data = mapOf<String,Any>(\n",
    "            \"Meses\" to listOf(\"Enero\", \"Febrero\", \"Marzo\", \"Abril\", \"Mayo\", \"Junio\", \"Julio\", \"Agosto\", \"Septiembre\", \n",
    "                              \"Octubre\", \"Noviembre\", \"Diciembre\"),\n",
    "            \"Promedio de temperatura\" to listOf(20, 15, 22, 23, 25, 26, 10, 25, 22, 20, 20, 21)\n",
    ")\n",
    "val p = ggplot(data)"
   ]
  },
  {
   "cell_type": "code",
   "execution_count": 3,
   "metadata": {},
   "outputs": [
    {
     "data": {
      "text/html": [
       "   <div id=\"piV4ox\"></div>\n",
       "   <script type=\"text/javascript\" data-lets-plot-script=\"plot\">\n",
       "       (function() {\n",
       "           var plotSpec={\n",
       "'mapping':{\n",
       "},\n",
       "'data':{\n",
       "'Meses':[\"Enero\",\"Febrero\",\"Marzo\",\"Abril\",\"Mayo\",\"Junio\",\"Julio\",\"Agosto\",\"Septiembre\",\"Octubre\",\"Noviembre\",\"Diciembre\"],\n",
       "'Promedio de temperatura':[20.0,15.0,22.0,23.0,25.0,26.0,10.0,25.0,22.0,20.0,20.0,21.0]\n",
       "},\n",
       "'kind':\"plot\",\n",
       "'scales':[],\n",
       "'layers':[{\n",
       "'stat':\"identity\",\n",
       "'mapping':{\n",
       "'x':\"Meses\",\n",
       "'y':\"Promedio de temperatura\",\n",
       "'fill':\"Promedio de temperatura\"\n",
       "},\n",
       "'data':{\n",
       "},\n",
       "'position':\"identity\",\n",
       "'geom':\"point\"\n",
       "}]\n",
       "};\n",
       "           var plotContainer = document.getElementById(\"piV4ox\");\n",
       "           window.letsPlotCall(function() {{\n",
       "               LetsPlot.buildPlotFromProcessedSpecs(plotSpec, -1, -1, plotContainer);\n",
       "           }});\n",
       "       })();    \n",
       "   </script>"
      ]
     },
     "execution_count": 3,
     "metadata": {},
     "output_type": "execute_result"
    }
   ],
   "source": [
    "val layer =  geom_point {\n",
    "    x = \"Meses\" ;\n",
    "    y = \"Promedio de temperatura\";\n",
    "    fill = \"Promedio de temperatura\"\n",
    "}\n",
    "\n",
    "(p + layer)"
   ]
  },
  {
   "cell_type": "code",
   "execution_count": 4,
   "metadata": {},
   "outputs": [
    {
     "data": {
      "text/html": [
       "   <div id=\"KC3Tfw\"></div>\n",
       "   <script type=\"text/javascript\" data-lets-plot-script=\"plot\">\n",
       "       (function() {\n",
       "           var plotSpec={\n",
       "'mapping':{\n",
       "},\n",
       "'data':{\n",
       "'Meses':[\"Enero\",\"Febrero\",\"Marzo\",\"Abril\",\"Mayo\",\"Junio\",\"Julio\",\"Agosto\",\"Septiembre\",\"Octubre\",\"Noviembre\",\"Diciembre\"],\n",
       "'Promedio de temperatura':[20.0,15.0,22.0,23.0,25.0,26.0,10.0,25.0,22.0,20.0,20.0,21.0]\n",
       "},\n",
       "'kind':\"plot\",\n",
       "'scales':[],\n",
       "'layers':[{\n",
       "'stat':\"identity\",\n",
       "'mapping':{\n",
       "'x':\"Meses\",\n",
       "'y':\"Promedio de temperatura\",\n",
       "'fill':\"Promedio de temperatura\"\n",
       "},\n",
       "'data':{\n",
       "},\n",
       "'position':\"stack\",\n",
       "'geom':\"area\"\n",
       "}]\n",
       "};\n",
       "           var plotContainer = document.getElementById(\"KC3Tfw\");\n",
       "           window.letsPlotCall(function() {{\n",
       "               LetsPlot.buildPlotFromProcessedSpecs(plotSpec, -1, -1, plotContainer);\n",
       "           }});\n",
       "       })();    \n",
       "   </script>"
      ]
     },
     "execution_count": 4,
     "metadata": {},
     "output_type": "execute_result"
    }
   ],
   "source": [
    "val layer =  geom_area {\n",
    "    x = \"Meses\" ;\n",
    "    y = \"Promedio de temperatura\";\n",
    "    fill = \"Promedio de temperatura\"\n",
    "}\n",
    "\n",
    "(p + layer)"
   ]
  },
  {
   "cell_type": "code",
   "execution_count": 5,
   "metadata": {},
   "outputs": [
    {
     "data": {
      "text/html": [
       "   <div id=\"OTINXX\"></div>\n",
       "   <script type=\"text/javascript\" data-lets-plot-script=\"plot\">\n",
       "       (function() {\n",
       "           var plotSpec={\n",
       "'mapping':{\n",
       "},\n",
       "'data':{\n",
       "},\n",
       "'kind':\"plot\",\n",
       "'scales':[],\n",
       "'layers':[{\n",
       "'stat':\"count\",\n",
       "'mapping':{\n",
       "'x':\"Meses\",\n",
       "'y':\"Promedio de temperatura\",\n",
       "'fill':\"Promedio de temperatura\"\n",
       "},\n",
       "'data':{\n",
       "'Meses':[\"Enero\",\"Febrero\",\"Marzo\",\"Abril\",\"Mayo\",\"Junio\",\"Julio\",\"Agosto\",\"Septiembre\",\"Octubre\",\"Noviembre\",\"Diciembre\"],\n",
       "'Promedio de temperatura':[1.0,1.0,1.0,1.0,1.0,1.0,1.0,1.0,1.0,1.0,1.0,1.0]\n",
       "},\n",
       "'position':\"stack\",\n",
       "'geom':\"bar\"\n",
       "}]\n",
       "};\n",
       "           var plotContainer = document.getElementById(\"OTINXX\");\n",
       "           window.letsPlotCall(function() {{\n",
       "               LetsPlot.buildPlotFromProcessedSpecs(plotSpec, -1, -1, plotContainer);\n",
       "           }});\n",
       "       })();    \n",
       "   </script>"
      ]
     },
     "execution_count": 5,
     "metadata": {},
     "output_type": "execute_result"
    }
   ],
   "source": [
    "val layer =  geom_bar {\n",
    "    x = \"Meses\" ;\n",
    "    y = \"Promedio de temperatura\";\n",
    "    fill = \"Promedio de temperatura\"\n",
    "}\n",
    "\n",
    "(p + layer)"
   ]
  },
  {
   "cell_type": "code",
   "execution_count": 6,
   "metadata": {},
   "outputs": [
    {
     "data": {
      "text/html": [
       "   <div id=\"Sm5d9s\"></div>\n",
       "   <script type=\"text/javascript\" data-lets-plot-script=\"plot\">\n",
       "       (function() {\n",
       "           var plotSpec={\n",
       "'mapping':{\n",
       "},\n",
       "'data':{\n",
       "},\n",
       "'kind':\"plot\",\n",
       "'scales':[],\n",
       "'layers':[{\n",
       "'stat':\"density\",\n",
       "'mapping':{\n",
       "'x':\"Meses\",\n",
       "'y':\"Promedio de temperatura\",\n",
       "'fill':\"Promedio de temperatura\"\n",
       "},\n",
       "'data':{\n",
       "'Meses':[\"Enero\",\"Enero\",\"Enero\",\"Enero\",\"Enero\",\"Enero\",\"Enero\",\"Enero\",\"Enero\",\"Enero\",\"Enero\",\"Enero\",\"Enero\",\"Enero\",\"Enero\",\"Enero\",\"Enero\",\"Enero\",\"Enero\",\"Enero\",\"Enero\",\"Enero\",\"Enero\",\"Enero\",\"Febrero\",\"Febrero\",\"Febrero\",\"Febrero\",\"Febrero\",\"Febrero\",\"Febrero\",\"Febrero\",\"Febrero\",\"Febrero\",\"Febrero\",\"Febrero\",\"Febrero\",\"Febrero\",\"Febrero\",\"Febrero\",\"Febrero\",\"Febrero\",\"Febrero\",\"Febrero\",\"Febrero\",\"Febrero\",\"Febrero\",\"Febrero\",\"Febrero\",\"Febrero\",\"Febrero\",\"Febrero\",\"Febrero\",\"Febrero\",\"Febrero\",\"Febrero\",\"Febrero\",\"Febrero\",\"Febrero\",\"Febrero\",\"Febrero\",\"Febrero\",\"Febrero\",\"Febrero\",\"Febrero\",\"Febrero\",\"Febrero\",\"Febrero\",\"Febrero\",\"Febrero\",\"Marzo\",\"Marzo\",\"Marzo\",\"Marzo\",\"Marzo\",\"Marzo\",\"Marzo\",\"Marzo\",\"Marzo\",\"Marzo\",\"Marzo\",\"Marzo\",\"Marzo\",\"Marzo\",\"Marzo\",\"Marzo\",\"Marzo\",\"Marzo\",\"Marzo\",\"Marzo\",\"Marzo\",\"Marzo\",\"Marzo\",\"Marzo\",\"Marzo\",\"Marzo\",\"Marzo\",\"Marzo\",\"Marzo\",\"Marzo\",\"Marzo\",\"Marzo\",\"Marzo\",\"Marzo\",\"Marzo\",\"Marzo\",\"Marzo\",\"Marzo\",\"Marzo\",\"Marzo\",\"Marzo\",\"Marzo\",\"Marzo\",\"Marzo\",\"Marzo\",\"Marzo\",\"Marzo\",\"Abril\",\"Abril\",\"Abril\",\"Abril\",\"Abril\",\"Abril\",\"Abril\",\"Abril\",\"Abril\",\"Abril\",\"Abril\",\"Abril\",\"Abril\",\"Abril\",\"Abril\",\"Abril\",\"Abril\",\"Abril\",\"Abril\",\"Abril\",\"Abril\",\"Abril\",\"Abril\",\"Abril\",\"Abril\",\"Abril\",\"Abril\",\"Abril\",\"Abril\",\"Abril\",\"Abril\",\"Abril\",\"Abril\",\"Abril\",\"Abril\",\"Abril\",\"Abril\",\"Abril\",\"Abril\",\"Abril\",\"Abril\",\"Abril\",\"Abril\",\"Abril\",\"Abril\",\"Abril\",\"Mayo\",\"Mayo\",\"Mayo\",\"Mayo\",\"Mayo\",\"Mayo\",\"Mayo\",\"Mayo\",\"Mayo\",\"Mayo\",\"Mayo\",\"Mayo\",\"Mayo\",\"Mayo\",\"Mayo\",\"Mayo\",\"Mayo\",\"Mayo\",\"Mayo\",\"Mayo\",\"Mayo\",\"Mayo\",\"Mayo\",\"Mayo\",\"Mayo\",\"Mayo\",\"Mayo\",\"Mayo\",\"Mayo\",\"Mayo\",\"Mayo\",\"Mayo\",\"Mayo\",\"Mayo\",\"Mayo\",\"Mayo\",\"Mayo\",\"Mayo\",\"Mayo\",\"Mayo\",\"Mayo\",\"Mayo\",\"Mayo\",\"Mayo\",\"Mayo\",\"Mayo\",\"Mayo\",\"Junio\",\"Junio\",\"Junio\",\"Junio\",\"Junio\",\"Junio\",\"Junio\",\"Junio\",\"Junio\",\"Junio\",\"Junio\",\"Junio\",\"Junio\",\"Junio\",\"Junio\",\"Junio\",\"Junio\",\"Junio\",\"Junio\",\"Junio\",\"Junio\",\"Junio\",\"Junio\",\"Junio\",\"Junio\",\"Junio\",\"Junio\",\"Junio\",\"Junio\",\"Junio\",\"Junio\",\"Junio\",\"Junio\",\"Junio\",\"Junio\",\"Junio\",\"Junio\",\"Junio\",\"Junio\",\"Junio\",\"Junio\",\"Junio\",\"Junio\",\"Junio\",\"Junio\",\"Junio\",\"Julio\",\"Julio\",\"Julio\",\"Julio\",\"Julio\",\"Julio\",\"Julio\",\"Julio\",\"Julio\",\"Julio\",\"Julio\",\"Julio\",\"Julio\",\"Julio\",\"Julio\",\"Julio\",\"Julio\",\"Julio\",\"Julio\",\"Julio\",\"Julio\",\"Julio\",\"Julio\",\"Julio\",\"Julio\",\"Julio\",\"Julio\",\"Julio\",\"Julio\",\"Julio\",\"Julio\",\"Julio\",\"Julio\",\"Julio\",\"Julio\",\"Julio\",\"Julio\",\"Julio\",\"Julio\",\"Julio\",\"Julio\",\"Julio\",\"Julio\",\"Julio\",\"Julio\",\"Julio\",\"Agosto\",\"Agosto\",\"Agosto\",\"Agosto\",\"Agosto\",\"Agosto\",\"Agosto\",\"Agosto\",\"Agosto\",\"Agosto\",\"Agosto\",\"Agosto\",\"Agosto\",\"Agosto\",\"Agosto\",\"Agosto\",\"Agosto\",\"Agosto\",\"Agosto\",\"Agosto\",\"Agosto\",\"Agosto\",\"Agosto\",\"Agosto\",\"Agosto\",\"Agosto\",\"Agosto\",\"Agosto\",\"Agosto\",\"Agosto\",\"Agosto\",\"Agosto\",\"Agosto\",\"Agosto\",\"Agosto\",\"Agosto\",\"Agosto\",\"Agosto\",\"Agosto\",\"Agosto\",\"Agosto\",\"Agosto\",\"Agosto\",\"Agosto\",\"Agosto\",\"Agosto\",\"Agosto\",\"Septiembre\",\"Septiembre\",\"Septiembre\",\"Septiembre\",\"Septiembre\",\"Septiembre\",\"Septiembre\",\"Septiembre\",\"Septiembre\",\"Septiembre\",\"Septiembre\",\"Septiembre\",\"Septiembre\",\"Septiembre\",\"Septiembre\",\"Septiembre\",\"Septiembre\",\"Septiembre\",\"Septiembre\",\"Septiembre\",\"Septiembre\",\"Septiembre\",\"Septiembre\",\"Septiembre\",\"Septiembre\",\"Septiembre\",\"Septiembre\",\"Septiembre\",\"Septiembre\",\"Septiembre\",\"Septiembre\",\"Septiembre\",\"Septiembre\",\"Septiembre\",\"Septiembre\",\"Septiembre\",\"Septiembre\",\"Septiembre\",\"Septiembre\",\"Septiembre\",\"Septiembre\",\"Septiembre\",\"Septiembre\",\"Septiembre\",\"Septiembre\",\"Septiembre\",\"Octubre\",\"Octubre\",\"Octubre\",\"Octubre\",\"Octubre\",\"Octubre\",\"Octubre\",\"Octubre\",\"Octubre\",\"Octubre\",\"Octubre\",\"Octubre\",\"Octubre\",\"Octubre\",\"Octubre\",\"Octubre\",\"Octubre\",\"Octubre\",\"Octubre\",\"Octubre\",\"Octubre\",\"Octubre\",\"Octubre\",\"Octubre\",\"Octubre\",\"Octubre\",\"Octubre\",\"Octubre\",\"Octubre\",\"Octubre\",\"Octubre\",\"Octubre\",\"Octubre\",\"Octubre\",\"Octubre\",\"Octubre\",\"Octubre\",\"Octubre\",\"Octubre\",\"Octubre\",\"Octubre\",\"Octubre\",\"Octubre\",\"Octubre\",\"Octubre\",\"Octubre\",\"Octubre\",\"Noviembre\",\"Noviembre\",\"Noviembre\",\"Noviembre\",\"Noviembre\",\"Noviembre\",\"Noviembre\",\"Noviembre\",\"Noviembre\",\"Noviembre\",\"Noviembre\",\"Noviembre\",\"Noviembre\",\"Noviembre\",\"Noviembre\",\"Noviembre\",\"Noviembre\",\"Noviembre\",\"Noviembre\",\"Noviembre\",\"Noviembre\",\"Noviembre\",\"Noviembre\",\"Noviembre\",\"Noviembre\",\"Noviembre\",\"Noviembre\",\"Noviembre\",\"Noviembre\",\"Noviembre\",\"Noviembre\",\"Noviembre\",\"Noviembre\",\"Noviembre\",\"Noviembre\",\"Noviembre\",\"Noviembre\",\"Noviembre\",\"Noviembre\",\"Noviembre\",\"Noviembre\",\"Noviembre\",\"Noviembre\",\"Noviembre\",\"Noviembre\",\"Noviembre\",\"Diciembre\",\"Diciembre\",\"Diciembre\",\"Diciembre\",\"Diciembre\",\"Diciembre\",\"Diciembre\",\"Diciembre\",\"Diciembre\",\"Diciembre\",\"Diciembre\",\"Diciembre\",\"Diciembre\",\"Diciembre\",\"Diciembre\",\"Diciembre\",\"Diciembre\",\"Diciembre\",\"Diciembre\",\"Diciembre\",\"Diciembre\",\"Diciembre\",\"Diciembre\",\"Diciembre\"],\n",
       "'Promedio de temperatura':[0.05046124793768653,0.05083034151967473,0.051198249020541965,0.05156492553534536,0.05193032663601393,0.05229440838740029,0.05265712736301454,0.05301844066043183,0.05337830591636378,0.053736681321385614,0.05409352563431028,0.054448798196201735,0.05480245894401931,0.05515446842388581,0.055504787803972506,0.05585337888699385,0.05620020412230583,0.056545226617601314,0.05688841015019757,0.057229719177909595,0.05756911884950492,0.05790657501473492,0.05824205423393827,0.058575523787212896,0.05890695168315257,0.05923630666714492,0.05956355822922856,0.05988867661150583,0.060211632815110196,0.06053239860672573,0.060850946524657716,0.06116724988445332,0.061481282784071355,0.061793020108601715,0.06210243753453338,0.062409511533572375,0.06271421937601022,0.06301653913364368,0.06331644968224784,0.06361393070360392,0.06390896268708438,0.06420152693079734,0.0644916055422937,0.06477918143883969,0.0650642383472587,0.06534676080334567,0.0656267341508589,0.0659041445400929,0.06617897892603747,0.06645122506612787,0.06672087151759118,0.06698790763439481,0.06725232356380222,0.06751411024254274,0.0677732593926013,0.06802976351663444,0.06828361589302,0.06853481057054688,0.06878334236275238,0.06902920684191437,0.06927240033270617,0.06951291990552148,0.06975076336947789,0.06998592926510638,0.0702184168567362,0.07044822612458204,0.07067535775654384,0.07089981313972628,0.07112159435168826,0.07134070415143005,0.07155714597012802,0.07177092390162591,0.07198204269269133,0.07219050773304776,0.07239632504519052,0.07259950127399642,0.07280004367613688,0.07299796010930355,0.073193259021256,0.07338594943870146,0.07357604095601548,0.07376354372381376,0.07394846843738409,0.07413082632498803,0.0743106291360424,0.07448788912918898,0.07466261906026292,0.07483483217016834,0.0750045421726709,0.07517176324211651,0.07533651000108518,0.07549879750798903,0.07565864124462379,0.07581605710368229,0.0759710613762389,0.07612367073921351,0.07627390224282364,0.07642177329803314,0.07656730166400576,0.07671050543557144,0.07685140303071407,0.07699001317808775,0.07712635490457002,0.07726044752285882,0.07739231061912154,0.07752196404070259,0.07764942788389698,0.07777472248179682,0.0778978683922171,0.07801888638570803,0.07813779743365933,0.07825462269650352,0.07836938351202392,0.07848210138377273,0.07859279796960554,0.07870149507033725,0.07880821461852465,0.07891297866738073,0.07901580937982576,0.07911672901767926,0.07921575993099801,0.07931292454756357,0.079408245362524,0.07950174492819308,0.07959344584401108,0.07968337074667027,0.07977154230040835,0.07985798318747317,0.0799427160987611,0.08002576372463206,0.08010714874590351,0.08018689382502565,0.08026502159743981,0.08034155466312201,0.08041651557831347,0.08048992684743915,0.08056181091521594,0.08063219015895184,0.08070108688103632,0.08076852330162354,0.08083452155150828,0.08089910366519533,0.08096229157416272,0.08102410710031846,0.08108457194965117,0.08114370770607403,0.08120153582546182,0.08125807762988042,0.08131335430200819,0.0813673868797483,0.08142019625103121,0.08147180314880563,0.08152222814621775,0.08157149165197622,0.08161961390590212,0.08166661497466224,0.08171251474768344,0.08175733293324691,0.08180108905475988,0.08184380244720293,0.08188549225375065,0.0819261774225634,0.08196587670374815,0.08200460864648502,0.08204239159631836,0.08207924369260841,0.08211518286614189,0.08215022683689803,0.08218439311196787,0.08221769898362327,0.08225016152753313,0.08228179760112385,0.08231262384208048,0.08234265666698613,0.08237191227009592,0.08240040662224253,0.08242815546987013,0.08245517433419336,0.08248147851047803,0.08250708306744027,0.08253200284676084,0.08255625246271107,0.08257984630188717,0.08260279852304947,0.0826251230570632,0.08264683360693727,0.08266794364795796,0.0826884664279135,0.0827084149674069,0.08272780206025279,0.08274664027395562,0.08276494195026511,0.08278271920580617,0.08279998393277938,0.08281674779972929,0.08283302225237649,0.08284881851451063,0.08286414758894085,0.08287902025850086,0.08289344708710407,0.08290743842084768,0.08292100438916038,0.08293415490599212,0.08294689967104175,0.0829592481710203,0.08297120968094619,0.08298279326546999,0.08299400778022485,0.08300486187320102,0.0830153639861402,0.08302552235594791,0.08303534501612067,0.08304483979818506,0.08305401433314667,0.08306287605294549,0.0830714321919157,0.08307968978824717,0.08308765568544614,0.0830953365337926,0.08310273879179239,0.0831098687276211,0.0831167324205579,0.08312333576240706,0.08312968445890496,0.0831357840311103,0.08314163981677594,0.08314725697169988,0.08315264047105367,0.08315779511068667,0.08316272550840367,0.08316743610521499,0.0831719311665563,0.08317621478347795,0.08318029087380056,0.08318416318323699,0.08318783528647791,0.08319131058824049,0.08319459232427842,0.0831976835623521,0.08320058720315783,0.08320330598121474,0.08320584246570856,0.083208199061291,0.083210378008834,0.08321238138613749,0.0832142111085905,0.08321586892978416,0.08321735644207642,0.08321867507710727,0.0832198261062644,0.08322081064109839,0.08322162963368697,0.0832222838769484,0.08322277400490254,0.08322310049288069,0.08322326365768291,0.08322326365768291,0.08322310049288069,0.08322277400490252,0.0832222838769484,0.083221629633687,0.08322081064109836,0.0832198261062644,0.08321867507710726,0.08321735644207641,0.08321586892978415,0.0832142111085905,0.08321238138613749,0.083210378008834,0.083208199061291,0.08320584246570854,0.08320330598121473,0.08320058720315783,0.0831976835623521,0.08319459232427841,0.08319131058824049,0.08318783528647793,0.083184163183237,0.08318029087380056,0.08317621478347793,0.08317193116655631,0.08316743610521497,0.0831627255084037,0.08315779511068665,0.08315264047105367,0.08314725697169986,0.08314163981677596,0.08313578403111031,0.08312968445890496,0.08312333576240709,0.08311673242055789,0.08310986872762109,0.08310273879179239,0.0830953365337926,0.08308765568544613,0.08307968978824719,0.0830714321919157,0.0830628760529455,0.08305401433314667,0.08304483979818507,0.08303534501612066,0.08302552235594791,0.0830153639861402,0.08300486187320101,0.08299400778022485,0.08298279326546998,0.0829712096809462,0.08295924817102028,0.08294689967104174,0.08293415490599212,0.0829210043891604,0.08290743842084769,0.08289344708710406,0.08287902025850084,0.08286414758894088,0.0828488185145106,0.08283302225237649,0.0828167477997293,0.08279998393277939,0.08278271920580615,0.08276494195026513,0.08274664027395563,0.08272780206025279,0.0827084149674069,0.08268846642791348,0.08266794364795794,0.08264683360693727,0.0826251230570632,0.08260279852304948,0.08257984630188717,0.08255625246271106,0.08253200284676084,0.08250708306744027,0.08248147851047802,0.08245517433419337,0.08242815546987013,0.08240040662224253,0.08237191227009591,0.08234265666698613,0.08231262384208048,0.08228179760112385,0.08225016152753314,0.08221769898362327,0.08218439311196789,0.08215022683689804,0.08211518286614188,0.08207924369260841,0.08204239159631836,0.08200460864648502,0.08196587670374815,0.08192617742256342,0.08188549225375065,0.08184380244720293,0.0818010890547599,0.08175733293324693,0.08171251474768344,0.08166661497466225,0.08161961390590214,0.08157149165197622,0.08152222814621778,0.08147180314880563,0.0814201962510312,0.0813673868797483,0.08131335430200819,0.08125807762988041,0.08120153582546183,0.08114370770607403,0.08108457194965117,0.08102410710031847,0.08096229157416272,0.08089910366519534,0.08083452155150829,0.08076852330162355,0.08070108688103632,0.08063219015895183,0.08056181091521594,0.08048992684743915,0.08041651557831347,0.08034155466312203,0.0802650215974398,0.08018689382502564,0.08010714874590351,0.08002576372463205,0.0799427160987611,0.07985798318747318,0.07977154230040837,0.07968337074667027,0.07959344584401108,0.07950174492819309,0.079408245362524,0.07931292454756358,0.07921575993099801,0.07911672901767924,0.07901580937982576,0.07891297866738074,0.07880821461852465,0.07870149507033725,0.07859279796960554,0.07848210138377272,0.07836938351202394,0.07825462269650355,0.07813779743365934,0.07801888638570804,0.07789786839221712,0.07777472248179682,0.07764942788389699,0.07752196404070259,0.07739231061912152,0.07726044752285882,0.07712635490457001,0.07699001317808775,0.07685140303071404,0.07671050543557144,0.07656730166400576,0.07642177329803317,0.07627390224282364,0.0761236707392135,0.07597106137623891,0.07581605710368229,0.07565864124462379,0.07549879750798906,0.0753365100010852,0.07517176324211655,0.07500454217267091,0.07483483217016833,0.07466261906026292,0.074487889129189,0.0743106291360424,0.07413082632498805,0.0739484684373841,0.07376354372381379,0.07357604095601548,0.07338594943870144,0.073193259021256,0.07299796010930357,0.07280004367613689,0.07259950127399642,0.07239632504519052,0.07219050773304776,0.07198204269269133,0.0717709239016259,0.07155714597012804,0.07134070415143005,0.07112159435168829,0.07089981313972628,0.07067535775654384,0.07044822612458206,0.0702184168567362,0.06998592926510641,0.0697507633694779,0.0695129199055215,0.06927240033270617,0.06902920684191438,0.06878334236275238,0.0685348105705469,0.06828361589302002,0.06802976351663446,0.06777325939260131,0.06751411024254278,0.06725232356380222,0.06698790763439481,0.06672087151759121,0.06645122506612787,0.06617897892603748,0.0659041445400929,0.06562673415085891,0.06534676080334569,0.0650642383472587,0.06477918143883972,0.06449160554229372,0.06420152693079734,0.06390896268708438,0.06361393070360394,0.06331644968224782,0.06301653913364369,0.06271421937601025,0.06240951153357239,0.06210243753453338,0.06179302010860172,0.06148128278407134,0.061167249884453316,0.06085094652465775,0.06053239860672574,0.060211632815110216,0.059888676611505855,0.05956355822922857,0.059236306667144946,0.058906951683152575,0.0585755237872129,0.05824205423393828,0.05790657501473495,0.057569118849504934,0.05722971917790961,0.0568884101501976,0.05654522661760133,0.05620020412230584,0.0558533788869939,0.055504787803972506,0.05515446842388582,0.054802458944019306,0.05444879819620175,0.054093525634310295,0.05373668132138559,0.05337830591636378,0.053018440660431855,0.052657127363014554,0.05229440838740029,0.051930326636013956,0.051564925535345356,0.05119824902054198,0.050830341519674756,0.05046124793768653]\n",
       "},\n",
       "'position':\"identity\",\n",
       "'geom':\"density\"\n",
       "}]\n",
       "};\n",
       "           var plotContainer = document.getElementById(\"Sm5d9s\");\n",
       "           window.letsPlotCall(function() {{\n",
       "               LetsPlot.buildPlotFromProcessedSpecs(plotSpec, -1, -1, plotContainer);\n",
       "           }});\n",
       "       })();    \n",
       "   </script>"
      ]
     },
     "execution_count": 6,
     "metadata": {},
     "output_type": "execute_result"
    }
   ],
   "source": [
    "val layer =  geom_density{\n",
    "    x = \"Meses\" ;\n",
    "    y = \"Promedio de temperatura\";\n",
    "    fill = \"Promedio de temperatura\"\n",
    "}\n",
    "\n",
    "(p + layer)"
   ]
  },
  {
   "cell_type": "code",
   "execution_count": 7,
   "metadata": {},
   "outputs": [
    {
     "data": {
      "text/html": [
       "   <div id=\"SFdznA\"></div>\n",
       "   <script type=\"text/javascript\" data-lets-plot-script=\"plot\">\n",
       "       (function() {\n",
       "           var plotSpec={\n",
       "'mapping':{\n",
       "},\n",
       "'data':{\n",
       "'Meses':[\"Enero\",\"Febrero\",\"Marzo\",\"Abril\",\"Mayo\",\"Junio\",\"Julio\",\"Agosto\",\"Septiembre\",\"Octubre\",\"Noviembre\",\"Diciembre\"],\n",
       "'Promedio de temperatura':[20.0,15.0,22.0,23.0,25.0,26.0,10.0,25.0,22.0,20.0,20.0,21.0]\n",
       "},\n",
       "'kind':\"plot\",\n",
       "'scales':[],\n",
       "'layers':[{\n",
       "'stat':\"identity\",\n",
       "'mapping':{\n",
       "'x':\"Meses\",\n",
       "'y':\"Promedio de temperatura\"\n",
       "},\n",
       "'data':{\n",
       "},\n",
       "'position':\"identity\",\n",
       "'geom':\"line\"\n",
       "}]\n",
       "};\n",
       "           var plotContainer = document.getElementById(\"SFdznA\");\n",
       "           window.letsPlotCall(function() {{\n",
       "               LetsPlot.buildPlotFromProcessedSpecs(plotSpec, -1, -1, plotContainer);\n",
       "           }});\n",
       "       })();    \n",
       "   </script>"
      ]
     },
     "execution_count": 7,
     "metadata": {},
     "output_type": "execute_result"
    }
   ],
   "source": [
    "val layer =  geom_line {\n",
    "    x = \"Meses\" ;\n",
    "    y = \"Promedio de temperatura\";\n",
    "}\n",
    "\n",
    "(p + layer)"
   ]
  },
  {
   "cell_type": "code",
   "execution_count": 8,
   "metadata": {},
   "outputs": [
    {
     "data": {
      "text/html": [
       "   <div id=\"N1FUOx\"></div>\n",
       "   <script type=\"text/javascript\" data-lets-plot-script=\"plot\">\n",
       "       (function() {\n",
       "           var plotSpec={\n",
       "'mapping':{\n",
       "},\n",
       "'data':{\n",
       "'Meses':[\"Enero\",\"Febrero\",\"Marzo\",\"Abril\",\"Mayo\",\"Junio\",\"Julio\",\"Agosto\",\"Septiembre\",\"Octubre\",\"Noviembre\",\"Diciembre\"],\n",
       "'Promedio de temperatura':[20.0,15.0,22.0,23.0,25.0,26.0,10.0,25.0,22.0,20.0,20.0,21.0]\n",
       "},\n",
       "'kind':\"plot\",\n",
       "'scales':[],\n",
       "'layers':[{\n",
       "'stat':\"identity\",\n",
       "'mapping':{\n",
       "'x':\"Meses\",\n",
       "'y':\"Promedio de temperatura\",\n",
       "'fill':\"Promedio de temperatura\"\n",
       "},\n",
       "'data':{\n",
       "},\n",
       "'position':\"identity\",\n",
       "'geom':\"polygon\"\n",
       "}]\n",
       "};\n",
       "           var plotContainer = document.getElementById(\"N1FUOx\");\n",
       "           window.letsPlotCall(function() {{\n",
       "               LetsPlot.buildPlotFromProcessedSpecs(plotSpec, -1, -1, plotContainer);\n",
       "           }});\n",
       "       })();    \n",
       "   </script>"
      ]
     },
     "execution_count": 8,
     "metadata": {},
     "output_type": "execute_result"
    }
   ],
   "source": [
    "val layer =  geom_polygon {\n",
    "    x = \"Meses\" ;\n",
    "    y = \"Promedio de temperatura\";\n",
    "    fill = \"Promedio de temperatura\"\n",
    "}\n",
    "\n",
    "(p + layer)"
   ]
  },
  {
   "cell_type": "code",
   "execution_count": 9,
   "metadata": {},
   "outputs": [
    {
     "data": {
      "text/html": [
       "   <div id=\"GlYztv\"></div>\n",
       "   <script type=\"text/javascript\" data-lets-plot-script=\"plot\">\n",
       "       (function() {\n",
       "           var plotSpec={\n",
       "'mapping':{\n",
       "},\n",
       "'data':{\n",
       "'Meses':[\"Enero\",\"Febrero\",\"Marzo\",\"Abril\",\"Mayo\",\"Junio\",\"Julio\",\"Agosto\",\"Septiembre\",\"Octubre\",\"Noviembre\",\"Diciembre\"],\n",
       "'Promedio de temperatura':[20.0,15.0,22.0,23.0,25.0,26.0,10.0,25.0,22.0,20.0,20.0,21.0]\n",
       "},\n",
       "'kind':\"plot\",\n",
       "'scales':[],\n",
       "'layers':[{\n",
       "'stat':\"identity\",\n",
       "'mapping':{\n",
       "'x':\"Meses\",\n",
       "'y':\"Promedio de temperatura\",\n",
       "'fill':\"Promedio de temperatura\"\n",
       "},\n",
       "'data':{\n",
       "},\n",
       "'position':\"identity\",\n",
       "'geom':\"tile\"\n",
       "}]\n",
       "};\n",
       "           var plotContainer = document.getElementById(\"GlYztv\");\n",
       "           window.letsPlotCall(function() {{\n",
       "               LetsPlot.buildPlotFromProcessedSpecs(plotSpec, -1, -1, plotContainer);\n",
       "           }});\n",
       "       })();    \n",
       "   </script>"
      ]
     },
     "execution_count": 9,
     "metadata": {},
     "output_type": "execute_result"
    }
   ],
   "source": [
    "val layer =  geom_tile {\n",
    "    x = \"Meses\" ;\n",
    "    y = \"Promedio de temperatura\";\n",
    "    fill = \"Promedio de temperatura\"\n",
    "}\n",
    "\n",
    "(p + layer)"
   ]
  },
  {
   "cell_type": "code",
   "execution_count": null,
   "metadata": {},
   "outputs": [],
   "source": []
  }
 ],
 "metadata": {
  "kernelspec": {
   "display_name": "Kotlin",
   "language": "kotlin",
   "name": "kotlin"
  },
  "language_info": {
   "codemirror_mode": "text/x-kotlin",
   "file_extension": ".kt",
   "mimetype": "text/x-kotlin",
   "name": "kotlin",
   "pygments_lexer": "kotlin",
   "version": "1.4.0-dev-7568"
  }
 },
 "nbformat": 4,
 "nbformat_minor": 2
}
