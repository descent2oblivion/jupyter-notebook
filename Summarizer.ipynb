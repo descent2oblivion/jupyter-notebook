{
 "cells": [
  {
   "cell_type": "code",
   "execution_count": 1,
   "metadata": {},
   "outputs": [],
   "source": [
    "class pais(_nombre : String, _total : Int, _muertes : Int, _recuperados : Int){\n",
    "    var nombre = _nombre\n",
    "    var total = _total\n",
    "    var muertes = _muertes\n",
    "    var recuperados = _recuperados\n",
    "}"
   ]
  },
  {
   "cell_type": "code",
   "execution_count": 2,
   "metadata": {},
   "outputs": [],
   "source": [
    "fun dif(pais1 : pais, pais2 : pais){\n",
    "    \n",
    "    var dias = 6\n",
    "    \n",
    "    print(\"${pais1.nombre}\\n\" +\n",
    "          \"Periodo Junio 16 - Junio 21:\\n\" + \n",
    "          \"Se han sumado ${pais1.total - pais2.total} \" + \n",
    "          \"casos positivos en todo el mundo, en otras palabras,\" + \n",
    "          \" un promedio de ${(pais1.total - pais2.total) / dias} nuevos casos por dia.\" + \n",
    "          \" Se han cerrado ${(pais1.muertes - pais2.muertes) + (pais1.recuperados - pais2.recuperados)}\" + \n",
    "          \" casos de los cuales ${pais1.recuperados - pais2.recuperados} se han recuperado y ${pais1.muertes - pais2.muertes} han muerto.\")\n",
    "}"
   ]
  },
  {
   "cell_type": "code",
   "execution_count": 3,
   "metadata": {},
   "outputs": [],
   "source": [
    "var mj21 = pais(\"Mundo\", 9002885, 468594, 4785949)\n",
    "var mxj21 = pais(\"Mexico\", 175202, 20781, 131686)\n",
    "var usj21 = pais(\"USA\", 2346982, 122140, 975049)\n",
    "var gej21 = pais(\"Alemania\", 191346, 8962, 174900)\n",
    "var ruj21 = pais(\"Rusia\", 584680, 8111, 339711)\n",
    "\n",
    "var mj16 = pais(\"Mundo\", 8227163, 444434, 4279126)\n",
    "var mxj16 = pais(\"Mexico\", 150264, 17580, 113006)\n",
    "var usj16 = pais(\"USA\", 2202529, 118997, 896448)\n",
    "var gej16 = pais(\"Alemania\", 188382, 8910, 173100)\n",
    "var ruj16 = pais(\"Rusia\", 545458, 7284, 294306)"
   ]
  },
  {
   "cell_type": "code",
   "execution_count": 4,
   "metadata": {},
   "outputs": [
    {
     "name": "stdout",
     "output_type": "stream",
     "text": [
      "Mundo\n",
      "Periodo Junio 16 - Junio 21:\n",
      "Se han sumado 775722 casos positivos en todo el mundo, en otras palabras, un promedio de 129287 nuevos casos por dia. Se han cerrado 530983 casos de los cuales 506823 se han recuperado y 24160 han muerto."
     ]
    }
   ],
   "source": [
    "dif(mj21, mj16)"
   ]
  },
  {
   "cell_type": "code",
   "execution_count": 5,
   "metadata": {},
   "outputs": [
    {
     "name": "stdout",
     "output_type": "stream",
     "text": [
      "Mexico\n",
      "Periodo Junio 16 - Junio 21:\n",
      "Se han sumado 24938 casos positivos en todo el mundo, en otras palabras, un promedio de 4156 nuevos casos por dia. Se han cerrado 21881 casos de los cuales 18680 se han recuperado y 3201 han muerto."
     ]
    }
   ],
   "source": [
    "dif(mxj21, mxj16)"
   ]
  },
  {
   "cell_type": "code",
   "execution_count": 6,
   "metadata": {},
   "outputs": [
    {
     "name": "stdout",
     "output_type": "stream",
     "text": [
      "USA\n",
      "Periodo Junio 16 - Junio 21:\n",
      "Se han sumado 144453 casos positivos en todo el mundo, en otras palabras, un promedio de 24075 nuevos casos por dia. Se han cerrado 81744 casos de los cuales 78601 se han recuperado y 3143 han muerto."
     ]
    }
   ],
   "source": [
    "dif(usj21, usj16)"
   ]
  },
  {
   "cell_type": "code",
   "execution_count": 7,
   "metadata": {},
   "outputs": [
    {
     "name": "stdout",
     "output_type": "stream",
     "text": [
      "Alemania\n",
      "Periodo Junio 16 - Junio 21:\n",
      "Se han sumado 2964 casos positivos en todo el mundo, en otras palabras, un promedio de 494 nuevos casos por dia. Se han cerrado 1852 casos de los cuales 1800 se han recuperado y 52 han muerto."
     ]
    }
   ],
   "source": [
    "dif(gej21, gej16)"
   ]
  },
  {
   "cell_type": "code",
   "execution_count": 8,
   "metadata": {},
   "outputs": [
    {
     "name": "stdout",
     "output_type": "stream",
     "text": [
      "Rusia\n",
      "Periodo Junio 16 - Junio 21:\n",
      "Se han sumado 39222 casos positivos en todo el mundo, en otras palabras, un promedio de 6537 nuevos casos por dia. Se han cerrado 46232 casos de los cuales 45405 se han recuperado y 827 han muerto."
     ]
    }
   ],
   "source": [
    "dif(ruj21, ruj16)"
   ]
  },
  {
   "cell_type": "code",
   "execution_count": null,
   "metadata": {},
   "outputs": [],
   "source": []
  }
 ],
 "metadata": {
  "kernelspec": {
   "display_name": "Kotlin",
   "language": "kotlin",
   "name": "kotlin"
  },
  "language_info": {
   "codemirror_mode": "text/x-kotlin",
   "file_extension": ".kt",
   "mimetype": "text/x-kotlin",
   "name": "kotlin",
   "pygments_lexer": "kotlin",
   "version": "1.4.0-dev-7568"
  }
 },
 "nbformat": 4,
 "nbformat_minor": 2
}
