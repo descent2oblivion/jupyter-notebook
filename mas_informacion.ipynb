{
 "cells": [
  {
   "cell_type": "markdown",
   "metadata": {},
   "source": [
    "# lets plot kotlin api\n",
    "\n",
    "https://github.com/JetBrains/lets-plot-kotlin"
   ]
  },
  {
   "cell_type": "markdown",
   "metadata": {},
   "source": [
    "# JVM implementation\n",
    "https://github.com/JetBrains/lets-plot-kotlin/blob/master/demo/jvm-batik/build.gradle\n",
    "\n",
    "https://github.com/JetBrains/lets-plot-kotlin/blob/master/demo/jvm-javafx/build.gradle"
   ]
  }
 ],
 "metadata": {
  "kernelspec": {
   "display_name": "Kotlin",
   "language": "kotlin",
   "name": "kotlin"
  },
  "language_info": {
   "codemirror_mode": "text/x-kotlin",
   "file_extension": ".kt",
   "mimetype": "text/x-kotlin",
   "name": "kotlin",
   "pygments_lexer": "kotlin",
   "version": "1.4.0-dev-7568"
  }
 },
 "nbformat": 4,
 "nbformat_minor": 2
}
